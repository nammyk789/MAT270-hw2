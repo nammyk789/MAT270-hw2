{
 "cells": [
  {
   "cell_type": "code",
   "execution_count": 1,
   "metadata": {},
   "outputs": [],
   "source": [
    "import numpy as np\n",
    "from scipy.io import loadmat\n",
    "import matplotlib.pyplot as plt\n",
    "import optuna\n",
    "import plotly.express as px\n",
    "import kmeans"
   ]
  },
  {
   "cell_type": "markdown",
   "metadata": {},
   "source": [
    "# Visualizing MNIST"
   ]
  },
  {
   "cell_type": "code",
   "execution_count": 2,
   "metadata": {},
   "outputs": [],
   "source": [
    "#Loading the data\n",
    "M = loadmat('MNIST_digit_data.mat')\n",
    "images_train,images_test,labels_train,labels_test= M['images_train'],M['images_test'],M['labels_train'],M['labels_test']"
   ]
  },
  {
   "cell_type": "code",
   "execution_count": 3,
   "metadata": {},
   "outputs": [],
   "source": [
    "#randomly permute data points\n",
    "inds = np.random.permutation(images_train.shape[0])\n",
    "images_train = images_train[inds]\n",
    "labels_train = labels_train[inds]\n",
    "\n",
    "\n",
    "inds = np.random.permutation(images_test.shape[0])\n",
    "images_test = images_test[inds]\n",
    "labels_test = labels_test[inds]"
   ]
  },
  {
   "cell_type": "code",
   "execution_count": 4,
   "metadata": {},
   "outputs": [
    {
     "data": {
      "image/png": "[encoded data removed]",
      "text/plain": [
       "<Figure size 432x288 with 1 Axes>"
      ]
     },
     "metadata": {
      "needs_background": "light"
     },
     "output_type": "display_data"
    }
   ],
   "source": [
    "#show the 10'th train image\n",
    "i=10\n",
    "im = images_train[i,:].reshape((28,28),order='F')\n",
    "plt.imshow(im)\n",
    "plt.title('Class Label:'+str(labels_train[i][0]))\n",
    "plt.show()"
   ]
  },
  {
   "cell_type": "markdown",
   "metadata": {},
   "source": [
    "# K Means- Lloyd's Algorithm"
   ]
  },
  {
   "cell_type": "markdown",
   "metadata": {},
   "source": [
    "### Model Analysis"
   ]
  },
  {
   "cell_type": "code",
   "execution_count": 8,
   "metadata": {},
   "outputs": [],
   "source": [
    "rand_scores = []\n",
    "rand_scores.append(model.rand_score())"
   ]
  },
  {
   "cell_type": "code",
   "execution_count": 13,
   "metadata": {},
   "outputs": [
    {
     "name": "stdout",
     "output_type": "stream",
     "text": [
      "Updating. 18556 points changed.\n",
      "Updating. 10811 points changed.\n",
      "Updating. 6589 points changed.\n",
      "Updating. 4471 points changed.\n",
      "Updating. 3138 points changed.\n",
      "Updating. 2212 points changed.\n",
      "Updating. 1773 points changed.\n",
      "Updating. 1663 points changed.\n",
      "Updating. 1480 points changed.\n",
      "Updating. 1308 points changed.\n",
      "Updating. 1158 points changed.\n",
      "Updating. 1068 points changed.\n",
      "Updating. 997 points changed.\n",
      "Updating. 1005 points changed.\n",
      "Updating. 949 points changed.\n",
      "Updating. 894 points changed.\n",
      "Updating. 845 points changed.\n",
      "Updating. 736 points changed.\n",
      "Updating. 653 points changed.\n",
      "Updating. 534 points changed.\n",
      "Updating. 417 points changed.\n",
      "Updating. 296 points changed.\n",
      "Updating. 246 points changed.\n",
      "Updating. 201 points changed.\n",
      "Updating. 173 points changed.\n",
      "Updating. 150 points changed.\n",
      "Updating. 138 points changed.\n",
      "Updating. 113 points changed.\n",
      "Updating. 97 points changed.\n",
      "Updating. 103 points changed.\n",
      "Updating. 94 points changed.\n",
      "Updating. 61 points changed.\n",
      "Updating. 56 points changed.\n",
      "Updating. 48 points changed.\n",
      "Updating. 34 points changed.\n",
      "Updating. 27 points changed.\n",
      "Updating. 24 points changed.\n",
      "Updating. 16 points changed.\n",
      "Updating. 13 points changed.\n",
      "Updating. 14 points changed.\n",
      "Updating. 8 points changed.\n",
      "Updating. 6 points changed.\n",
      "Updating. 5 points changed.\n",
      "Updating. 6 points changed.\n",
      "Updating. 6 points changed.\n",
      "Updating. 7 points changed.\n",
      "Updating. 7 points changed.\n",
      "Updating. 10 points changed.\n",
      "Updating. 8 points changed.\n",
      "Updating. 9 points changed.\n",
      "Updating. 7 points changed.\n",
      "Updating. 4 points changed.\n",
      "Updating. 3 points changed.\n",
      "Updating. 5 points changed.\n",
      "Updating. 6 points changed.\n",
      "Updating. 4 points changed.\n",
      "Updating. 3 points changed.\n",
      "Updating. 3 points changed.\n",
      "Updating. 2 points changed.\n",
      "Updating. 3 points changed.\n",
      "Updating. 6 points changed.\n",
      "Updating. 8 points changed.\n",
      "Updating. 15 points changed.\n",
      "Updating. 13 points changed.\n",
      "Updating. 8 points changed.\n",
      "Updating. 6 points changed.\n",
      "Updating. 6 points changed.\n",
      "Updating. 3 points changed.\n",
      "Updating. 6 points changed.\n",
      "Updating. 11 points changed.\n",
      "Updating. 12 points changed.\n",
      "Updating. 10 points changed.\n",
      "Updating. 10 points changed.\n",
      "Updating. 12 points changed.\n",
      "Updating. 15 points changed.\n",
      "Updating. 19 points changed.\n",
      "Updating. 21 points changed.\n",
      "Updating. 25 points changed.\n",
      "Updating. 34 points changed.\n",
      "Updating. 34 points changed.\n",
      "Updating. 33 points changed.\n",
      "Updating. 48 points changed.\n",
      "Updating. 43 points changed.\n",
      "Updating. 44 points changed.\n",
      "Updating. 43 points changed.\n",
      "Updating. 56 points changed.\n",
      "Updating. 68 points changed.\n",
      "Updating. 72 points changed.\n",
      "Updating. 72 points changed.\n",
      "Updating. 73 points changed.\n",
      "Updating. 76 points changed.\n",
      "Updating. 65 points changed.\n",
      "Updating. 46 points changed.\n",
      "Updating. 44 points changed.\n",
      "Updating. 33 points changed.\n",
      "Updating. 30 points changed.\n",
      "Updating. 22 points changed.\n",
      "Updating. 19 points changed.\n",
      "Updating. 30 points changed.\n",
      "Updating. 24 points changed.\n",
      "Updating. 21 points changed.\n",
      "Updating. 23 points changed.\n",
      "Updating. 24 points changed.\n",
      "Updating. 25 points changed.\n",
      "Updating. 29 points changed.\n",
      "Updating. 18 points changed.\n",
      "Updating. 18 points changed.\n",
      "Updating. 21 points changed.\n",
      "Updating. 12 points changed.\n",
      "Updating. 13 points changed.\n",
      "Updating. 6 points changed.\n",
      "Updating. 4 points changed.\n",
      "Updating. 7 points changed.\n",
      "Updating. 8 points changed.\n",
      "Updating. 6 points changed.\n",
      "Updating. 6 points changed.\n",
      "Updating. 5 points changed.\n",
      "Updating. 3 points changed.\n",
      "Updating. 14965 points changed.\n",
      "Updating. 7631 points changed.\n",
      "Updating. 5097 points changed.\n",
      "Updating. 3351 points changed.\n",
      "Updating. 2410 points changed.\n",
      "Updating. 1903 points changed.\n",
      "Updating. 1650 points changed.\n",
      "Updating. 1309 points changed.\n",
      "Updating. 1112 points changed.\n",
      "Updating. 887 points changed.\n",
      "Updating. 731 points changed.\n",
      "Updating. 617 points changed.\n",
      "Updating. 554 points changed.\n",
      "Updating. 561 points changed.\n",
      "Updating. 586 points changed.\n",
      "Updating. 688 points changed.\n",
      "Updating. 746 points changed.\n",
      "Updating. 739 points changed.\n",
      "Updating. 737 points changed.\n",
      "Updating. 709 points changed.\n",
      "Updating. 648 points changed.\n",
      "Updating. 670 points changed.\n",
      "Updating. 625 points changed.\n",
      "Updating. 580 points changed.\n",
      "Updating. 535 points changed.\n",
      "Updating. 464 points changed.\n",
      "Updating. 415 points changed.\n",
      "Updating. 365 points changed.\n",
      "Updating. 311 points changed.\n",
      "Updating. 291 points changed.\n",
      "Updating. 282 points changed.\n",
      "Updating. 242 points changed.\n",
      "Updating. 223 points changed.\n",
      "Updating. 217 points changed.\n",
      "Updating. 201 points changed.\n",
      "Updating. 199 points changed.\n",
      "Updating. 209 points changed.\n",
      "Updating. 230 points changed.\n",
      "Updating. 248 points changed.\n",
      "Updating. 248 points changed.\n",
      "Updating. 204 points changed.\n",
      "Updating. 213 points changed.\n",
      "Updating. 233 points changed.\n",
      "Updating. 291 points changed.\n",
      "Updating. 357 points changed.\n",
      "Updating. 427 points changed.\n",
      "Updating. 472 points changed.\n",
      "Updating. 472 points changed.\n",
      "Updating. 454 points changed.\n",
      "Updating. 442 points changed.\n",
      "Updating. 357 points changed.\n",
      "Updating. 301 points changed.\n",
      "Updating. 239 points changed.\n",
      "Updating. 205 points changed.\n",
      "Updating. 173 points changed.\n",
      "Updating. 167 points changed.\n",
      "Updating. 132 points changed.\n",
      "Updating. 141 points changed.\n",
      "Updating. 136 points changed.\n",
      "Updating. 122 points changed.\n",
      "Updating. 132 points changed.\n",
      "Updating. 111 points changed.\n",
      "Updating. 116 points changed.\n",
      "Updating. 117 points changed.\n",
      "Updating. 134 points changed.\n",
      "Updating. 158 points changed.\n",
      "Updating. 149 points changed.\n",
      "Updating. 133 points changed.\n",
      "Updating. 129 points changed.\n",
      "Updating. 115 points changed.\n",
      "Updating. 114 points changed.\n",
      "Updating. 119 points changed.\n",
      "Updating. 114 points changed.\n",
      "Updating. 122 points changed.\n",
      "Updating. 123 points changed.\n",
      "Updating. 117 points changed.\n",
      "Updating. 102 points changed.\n",
      "Updating. 101 points changed.\n",
      "Updating. 94 points changed.\n",
      "Updating. 109 points changed.\n",
      "Updating. 106 points changed.\n",
      "Updating. 99 points changed.\n",
      "Updating. 103 points changed.\n",
      "Updating. 93 points changed.\n",
      "Updating. 87 points changed.\n",
      "Updating. 88 points changed.\n",
      "Updating. 82 points changed.\n",
      "Updating. 82 points changed.\n",
      "Updating. 74 points changed.\n",
      "Updating. 68 points changed.\n",
      "Updating. 73 points changed.\n",
      "Updating. 64 points changed.\n",
      "Updating. 60 points changed.\n",
      "Updating. 55 points changed.\n",
      "Updating. 47 points changed.\n",
      "Updating. 47 points changed.\n",
      "Updating. 44 points changed.\n",
      "Updating. 38 points changed.\n",
      "Updating. 37 points changed.\n",
      "Updating. 32 points changed.\n",
      "Updating. 28 points changed.\n",
      "Updating. 26 points changed.\n",
      "Updating. 29 points changed.\n",
      "Updating. 25 points changed.\n",
      "Updating. 35 points changed.\n",
      "Updating. 34 points changed.\n",
      "Updating. 30 points changed.\n",
      "Updating. 26 points changed.\n",
      "Updating. 28 points changed.\n",
      "Updating. 26 points changed.\n",
      "Updating. 29 points changed.\n",
      "Updating. 14 points changed.\n",
      "Updating. 10 points changed.\n",
      "Updating. 17 points changed.\n",
      "Updating. 29 points changed.\n",
      "Updating. 26 points changed.\n",
      "Updating. 33 points changed.\n",
      "Updating. 39 points changed.\n",
      "Updating. 38 points changed.\n",
      "Updating. 27 points changed.\n",
      "Updating. 23 points changed.\n",
      "Updating. 23 points changed.\n",
      "Updating. 22 points changed.\n",
      "Updating. 20 points changed.\n",
      "Updating. 6 points changed.\n",
      "Updating. 6 points changed.\n",
      "Updating. 1 points changed.\n",
      "Updating. 17098 points changed.\n",
      "Updating. 9369 points changed.\n",
      "Updating. 6555 points changed.\n",
      "Updating. 4300 points changed.\n",
      "Updating. 3237 points changed.\n",
      "Updating. 2431 points changed.\n",
      "Updating. 1877 points changed.\n",
      "Updating. 1591 points changed.\n",
      "Updating. 1345 points changed.\n",
      "Updating. 1169 points changed.\n",
      "Updating. 1049 points changed.\n",
      "Updating. 1009 points changed.\n",
      "Updating. 998 points changed.\n",
      "Updating. 990 points changed.\n",
      "Updating. 939 points changed.\n",
      "Updating. 932 points changed.\n",
      "Updating. 894 points changed.\n",
      "Updating. 832 points changed.\n",
      "Updating. 778 points changed.\n",
      "Updating. 786 points changed.\n",
      "Updating. 751 points changed.\n",
      "Updating. 731 points changed.\n",
      "Updating. 670 points changed.\n",
      "Updating. 628 points changed.\n",
      "Updating. 543 points changed.\n",
      "Updating. 476 points changed.\n",
      "Updating. 465 points changed.\n",
      "Updating. 470 points changed.\n",
      "Updating. 456 points changed.\n",
      "Updating. 451 points changed.\n",
      "Updating. 458 points changed.\n",
      "Updating. 518 points changed.\n",
      "Updating. 535 points changed.\n"
     ]
    },
    {
     "name": "stdout",
     "output_type": "stream",
     "text": [
      "Updating. 538 points changed.\n",
      "Updating. 553 points changed.\n",
      "Updating. 543 points changed.\n",
      "Updating. 558 points changed.\n",
      "Updating. 576 points changed.\n",
      "Updating. 573 points changed.\n",
      "Updating. 615 points changed.\n",
      "Updating. 639 points changed.\n",
      "Updating. 643 points changed.\n",
      "Updating. 655 points changed.\n",
      "Updating. 592 points changed.\n",
      "Updating. 523 points changed.\n",
      "Updating. 423 points changed.\n",
      "Updating. 381 points changed.\n",
      "Updating. 322 points changed.\n",
      "Updating. 269 points changed.\n",
      "Updating. 231 points changed.\n",
      "Updating. 210 points changed.\n",
      "Updating. 177 points changed.\n",
      "Updating. 137 points changed.\n",
      "Updating. 153 points changed.\n",
      "Updating. 151 points changed.\n",
      "Updating. 157 points changed.\n",
      "Updating. 132 points changed.\n",
      "Updating. 126 points changed.\n",
      "Updating. 107 points changed.\n",
      "Updating. 93 points changed.\n",
      "Updating. 108 points changed.\n",
      "Updating. 124 points changed.\n",
      "Updating. 149 points changed.\n",
      "Updating. 143 points changed.\n",
      "Updating. 142 points changed.\n",
      "Updating. 132 points changed.\n",
      "Updating. 127 points changed.\n",
      "Updating. 103 points changed.\n",
      "Updating. 103 points changed.\n",
      "Updating. 107 points changed.\n",
      "Updating. 110 points changed.\n",
      "Updating. 115 points changed.\n",
      "Updating. 118 points changed.\n",
      "Updating. 122 points changed.\n",
      "Updating. 110 points changed.\n",
      "Updating. 112 points changed.\n",
      "Updating. 108 points changed.\n",
      "Updating. 97 points changed.\n",
      "Updating. 107 points changed.\n",
      "Updating. 105 points changed.\n",
      "Updating. 100 points changed.\n",
      "Updating. 93 points changed.\n",
      "Updating. 88 points changed.\n",
      "Updating. 91 points changed.\n",
      "Updating. 78 points changed.\n",
      "Updating. 90 points changed.\n",
      "Updating. 83 points changed.\n",
      "Updating. 73 points changed.\n",
      "Updating. 75 points changed.\n",
      "Updating. 66 points changed.\n",
      "Updating. 61 points changed.\n",
      "Updating. 51 points changed.\n",
      "Updating. 44 points changed.\n",
      "Updating. 54 points changed.\n",
      "Updating. 43 points changed.\n",
      "Updating. 38 points changed.\n",
      "Updating. 34 points changed.\n",
      "Updating. 33 points changed.\n",
      "Updating. 32 points changed.\n",
      "Updating. 28 points changed.\n",
      "Updating. 31 points changed.\n",
      "Updating. 30 points changed.\n",
      "Updating. 40 points changed.\n",
      "Updating. 27 points changed.\n",
      "Updating. 24 points changed.\n",
      "Updating. 32 points changed.\n",
      "Updating. 26 points changed.\n",
      "Updating. 26 points changed.\n",
      "Updating. 19 points changed.\n",
      "Updating. 10 points changed.\n",
      "Updating. 14 points changed.\n",
      "Updating. 27 points changed.\n",
      "Updating. 22 points changed.\n",
      "Updating. 33 points changed.\n",
      "Updating. 42 points changed.\n",
      "Updating. 39 points changed.\n",
      "Updating. 29 points changed.\n",
      "Updating. 27 points changed.\n",
      "Updating. 20 points changed.\n",
      "Updating. 26 points changed.\n",
      "Updating. 22 points changed.\n",
      "Updating. 9 points changed.\n",
      "Updating. 4 points changed.\n",
      "Updating. 1 points changed.\n",
      "Updating. 1 points changed.\n"
     ]
    }
   ],
   "source": [
    "images_train = np.array([x.flatten() for x in images_train])\n",
    "for i in range(3):\n",
    "    model = kmeans.kMeans()\n",
    "    model.train(images_train, labels_train)\n",
    "    rand_scores.append(model.rand_score())"
   ]
  },
  {
   "cell_type": "code",
   "execution_count": 5,
   "metadata": {
    "scrolled": true
   },
   "outputs": [
    {
     "name": "stdout",
     "output_type": "stream",
     "text": [
      "[6, 9, 4, 7, 2, 0, 8, 1, 3, 1]\n"
     ]
    }
   ],
   "source": [
    "model.get_cluster_labels()"
   ]
  },
  {
   "cell_type": "code",
   "execution_count": 6,
   "metadata": {},
   "outputs": [
    {
     "data": {
      "text/plain": [
       "0.8797502391706529"
      ]
     },
     "execution_count": 6,
     "metadata": {},
     "output_type": "execute_result"
    }
   ],
   "source": [
    "model.rand_score()"
   ]
  },
  {
   "cell_type": "code",
   "execution_count": 7,
   "metadata": {},
   "outputs": [
    {
     "data": {
      "text/plain": [
       "[5395, 7238, 5416, 6690, 4635, 4975, 7065, 5297, 7791, 5498]"
      ]
     },
     "execution_count": 7,
     "metadata": {},
     "output_type": "execute_result"
    }
   ],
   "source": [
    "model.cluster_counts()"
   ]
  },
  {
   "cell_type": "code",
   "execution_count": 14,
   "metadata": {},
   "outputs": [
    {
     "data": {
      "text/plain": [
       "[0.8797502391706529,\n",
       " 0.8867041722917605,\n",
       " 0.8797502391706529,\n",
       " 0.8797502391706529]"
      ]
     },
     "execution_count": 14,
     "metadata": {},
     "output_type": "execute_result"
    }
   ],
   "source": [
    "rand_scores"
   ]
  },
  {
   "cell_type": "markdown",
   "metadata": {},
   "source": [
    "# Spectral Clustering"
   ]
  },
  {
   "cell_type": "code",
   "execution_count": 15,
   "metadata": {},
   "outputs": [],
   "source": [
    "import spectral_clustering"
   ]
  },
  {
   "cell_type": "markdown",
   "metadata": {},
   "source": [
    "### Hyperparameter Tuning"
   ]
  },
  {
   "cell_type": "code",
   "execution_count": null,
   "metadata": {},
   "outputs": [
    {
     "name": "stdout",
     "output_type": "stream",
     "text": [
      "Updating. 2216 points changed.\n",
      "Updating. 758 points changed.\n",
      "Updating. 185 points changed.\n",
      "Updating. 138 points changed.\n",
      "Updating. 65 points changed.\n",
      "Updating. 27 points changed.\n",
      "Updating. 35 points changed.\n",
      "Updating. 24 points changed.\n",
      "Updating. 11 points changed.\n",
      "Updating. 4 points changed.\n",
      "Updating. 4 points changed.\n",
      "Updating. 1 points changed.\n"
     ]
    }
   ],
   "source": [
    "sigma = [0.5, 5, 10, 20, 50]\n",
    "rand_scores = []\n",
    "for sigma in sigma:\n",
    "    model = spectral_clustering.spectralClustering(sigma=sigma)\n",
    "    model.cluster(images_train[:4000], labels_train[:4000])\n",
    "    rand_scores.append(model.rand_score())"
   ]
  },
  {
   "cell_type": "code",
   "execution_count": null,
   "metadata": {},
   "outputs": [],
   "source": [
    "rand_scores"
   ]
  },
  {
   "cell_type": "code",
   "execution_count": null,
   "metadata": {},
   "outputs": [],
   "source": []
  }
 ],
 "metadata": {
  "kernelspec": {
   "display_name": "Python 3",
   "language": "python",
   "name": "python3"
  },
  "language_info": {
   "codemirror_mode": {
    "name": "ipython",
    "version": 3
   },
   "file_extension": ".py",
   "mimetype": "text/x-python",
   "name": "python",
   "nbconvert_exporter": "python",
   "pygments_lexer": "ipython3",
   "version": "3.8.3"
  }
 },
 "nbformat": 4,
 "nbformat_minor": 4
}
