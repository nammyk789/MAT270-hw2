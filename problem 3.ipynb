{
 "cells": [
  {
   "cell_type": "code",
   "execution_count": 1,
   "metadata": {},
   "outputs": [],
   "source": [
    "import numpy as np\n",
    "from scipy.io import loadmat\n",
    "import matplotlib.pyplot as plt\n",
    "import optuna\n",
    "import plotly.express as px\n",
    "import kmeans"
   ]
  },
  {
   "cell_type": "markdown",
   "metadata": {},
   "source": [
    "# Visualizing MNIST"
   ]
  },
  {
   "cell_type": "code",
   "execution_count": 2,
   "metadata": {},
   "outputs": [],
   "source": [
    "#Loading the data\n",
    "M = loadmat('MNIST_digit_data.mat')\n",
    "images_train,images_test,labels_train,labels_test= M['images_train'],M['images_test'],M['labels_train'],M['labels_test']"
   ]
  },
  {
   "cell_type": "code",
   "execution_count": 3,
   "metadata": {},
   "outputs": [],
   "source": [
    "#randomly permute data points\n",
    "inds = np.random.permutation(images_train.shape[0])\n",
    "images_train = images_train[inds]\n",
    "labels_train = labels_train[inds]\n",
    "\n",
    "\n",
    "inds = np.random.permutation(images_test.shape[0])\n",
    "images_test = images_test[inds]\n",
    "labels_test = labels_test[inds]"
   ]
  },
  {
   "cell_type": "code",
   "execution_count": 4,
   "metadata": {},
   "outputs": [
    {
     "data": {
      "image/png": "[encoded data removed]",
      "text/plain": [
       "<Figure size 432x288 with 1 Axes>"
      ]
     },
     "metadata": {
      "needs_background": "light"
     },
     "output_type": "display_data"
    }
   ],
   "source": [
    "#show the 10'th train image\n",
    "i=10\n",
    "im = images_train[i,:].reshape((28,28),order='F')\n",
    "plt.imshow(im)\n",
    "plt.title('Class Label:'+str(labels_train[i][0]))\n",
    "plt.show()"
   ]
  },
  {
   "cell_type": "markdown",
   "metadata": {},
   "source": [
    "# K Means- Lloyd's Algorithm"
   ]
  },
  {
   "cell_type": "markdown",
   "metadata": {},
   "source": [
    "### Model Analysis"
   ]
  },
  {
   "cell_type": "code",
   "execution_count": 8,
   "metadata": {},
   "outputs": [],
   "source": [
    "rand_scores = []\n",
    "rand_scores.append(model.rand_score())"
   ]
  },
  {
   "cell_type": "code",
   "execution_count": 13,
   "metadata": {},
   "outputs": [
    {
     "name": "stdout",
     "output_type": "stream",
     "text": [
      "Updating. 18556 points changed.\n",
      "Updating. 10811 points changed.\n",
      "Updating. 6589 points changed.\n",
      "Updating. 4471 points changed.\n",
      "Updating. 3138 points changed.\n",
      "Updating. 2212 points changed.\n",
      "Updating. 1773 points changed.\n",
      "Updating. 1663 points changed.\n",
      "Updating. 1480 points changed.\n",
      "Updating. 1308 points changed.\n",
      "Updating. 1158 points changed.\n",
      "Updating. 1068 points changed.\n",
      "Updating. 997 points changed.\n",
      "Updating. 1005 points changed.\n",
      "Updating. 949 points changed.\n",
      "Updating. 894 points changed.\n",
      "Updating. 845 points changed.\n",
      "Updating. 736 points changed.\n",
      "Updating. 653 points changed.\n",
      "Updating. 534 points changed.\n",
      "Updating. 417 points changed.\n",
      "Updating. 296 points changed.\n",
      "Updating. 246 points changed.\n",
      "Updating. 201 points changed.\n",
      "Updating. 173 points changed.\n",
      "Updating. 150 points changed.\n",
      "Updating. 138 points changed.\n",
      "Updating. 113 points changed.\n",
      "Updating. 97 points changed.\n",
      "Updating. 103 points changed.\n",
      "Updating. 94 points changed.\n",
      "Updating. 61 points changed.\n",
      "Updating. 56 points changed.\n",
      "Updating. 48 points changed.\n",
      "Updating. 34 points changed.\n",
      "Updating. 27 points changed.\n",
      "Updating. 24 points changed.\n",
      "Updating. 16 points changed.\n",
      "Updating. 13 points changed.\n",
      "Updating. 14 points changed.\n",
      "Updating. 8 points changed.\n",
      "Updating. 6 points changed.\n",
      "Updating. 5 points changed.\n",
      "Updating. 6 points changed.\n",
      "Updating. 6 points changed.\n",
      "Updating. 7 points changed.\n",
      "Updating. 7 points changed.\n",
      "Updating. 10 points changed.\n",
      "Updating. 8 points changed.\n",
      "Updating. 9 points changed.\n",
      "Updating. 7 points changed.\n",
      "Updating. 4 points changed.\n",
      "Updating. 3 points changed.\n",
      "Updating. 5 points changed.\n",
      "Updating. 6 points changed.\n",
      "Updating. 4 points changed.\n",
      "Updating. 3 points changed.\n",
      "Updating. 3 points changed.\n",
      "Updating. 2 points changed.\n",
      "Updating. 3 points changed.\n",
      "Updating. 6 points changed.\n",
      "Updating. 8 points changed.\n",
      "Updating. 15 points changed.\n",
      "Updating. 13 points changed.\n",
      "Updating. 8 points changed.\n",
      "Updating. 6 points changed.\n",
      "Updating. 6 points changed.\n",
      "Updating. 3 points changed.\n",
      "Updating. 6 points changed.\n",
      "Updating. 11 points changed.\n",
      "Updating. 12 points changed.\n",
      "Updating. 10 points changed.\n",
      "Updating. 10 points changed.\n",
      "Updating. 12 points changed.\n",
      "Updating. 15 points changed.\n",
      "Updating. 19 points changed.\n",
      "Updating. 21 points changed.\n",
      "Updating. 25 points changed.\n",
      "Updating. 34 points changed.\n",
      "Updating. 34 points changed.\n",
      "Updating. 33 points changed.\n",
      "Updating. 48 points changed.\n",
      "Updating. 43 points changed.\n",
      "Updating. 44 points changed.\n",
      "Updating. 43 points changed.\n",
      "Updating. 56 points changed.\n",
      "Updating. 68 points changed.\n",
      "Updating. 72 points changed.\n",
      "Updating. 72 points changed.\n",
      "Updating. 73 points changed.\n",
      "Updating. 76 points changed.\n",
      "Updating. 65 points changed.\n",
      "Updating. 46 points changed.\n",
      "Updating. 44 points changed.\n",
      "Updating. 33 points changed.\n",
      "Updating. 30 points changed.\n",
      "Updating. 22 points changed.\n",
      "Updating. 19 points changed.\n",
      "Updating. 30 points changed.\n",
      "Updating. 24 points changed.\n",
      "Updating. 21 points changed.\n",
      "Updating. 23 points changed.\n",
      "Updating. 24 points changed.\n",
      "Updating. 25 points changed.\n",
      "Updating. 29 points changed.\n",
      "Updating. 18 points changed.\n",
      "Updating. 18 points changed.\n",
      "Updating. 21 points changed.\n",
      "Updating. 12 points changed.\n",
      "Updating. 13 points changed.\n",
      "Updating. 6 points changed.\n",
      "Updating. 4 points changed.\n",
      "Updating. 7 points changed.\n",
      "Updating. 8 points changed.\n",
      "Updating. 6 points changed.\n",
      "Updating. 6 points changed.\n",
      "Updating. 5 points changed.\n",
      "Updating. 3 points changed.\n",
      "Updating. 14965 points changed.\n",
      "Updating. 7631 points changed.\n",
      "Updating. 5097 points changed.\n",
      "Updating. 3351 points changed.\n",
      "Updating. 2410 points changed.\n",
      "Updating. 1903 points changed.\n",
      "Updating. 1650 points changed.\n",
      "Updating. 1309 points changed.\n",
      "Updating. 1112 points changed.\n",
      "Updating. 887 points changed.\n",
      "Updating. 731 points changed.\n",
      "Updating. 617 points changed.\n",
      "Updating. 554 points changed.\n",
      "Updating. 561 points changed.\n",
      "Updating. 586 points changed.\n",
      "Updating. 688 points changed.\n",
      "Updating. 746 points changed.\n",
      "Updating. 739 points changed.\n",
      "Updating. 737 points changed.\n",
      "Updating. 709 points changed.\n",
      "Updating. 648 points changed.\n",
      "Updating. 670 points changed.\n",
      "Updating. 625 points changed.\n",
      "Updating. 580 points changed.\n",
      "Updating. 535 points changed.\n",
      "Updating. 464 points changed.\n",
      "Updating. 415 points changed.\n",
      "Updating. 365 points changed.\n",
      "Updating. 311 points changed.\n",
      "Updating. 291 points changed.\n",
      "Updating. 282 points changed.\n",
      "Updating. 242 points changed.\n",
      "Updating. 223 points changed.\n",
      "Updating. 217 points changed.\n",
      "Updating. 201 points changed.\n",
      "Updating. 199 points changed.\n",
      "Updating. 209 points changed.\n",
      "Updating. 230 points changed.\n",
      "Updating. 248 points changed.\n",
      "Updating. 248 points changed.\n",
      "Updating. 204 points changed.\n",
      "Updating. 213 points changed.\n",
      "Updating. 233 points changed.\n",
      "Updating. 291 points changed.\n",
      "Updating. 357 points changed.\n",
      "Updating. 427 points changed.\n",
      "Updating. 472 points changed.\n",
      "Updating. 472 points changed.\n",
      "Updating. 454 points changed.\n",
      "Updating. 442 points changed.\n",
      "Updating. 357 points changed.\n",
      "Updating. 301 points changed.\n",
      "Updating. 239 points changed.\n",
      "Updating. 205 points changed.\n",
      "Updating. 173 points changed.\n",
      "Updating. 167 points changed.\n",
      "Updating. 132 points changed.\n",
      "Updating. 141 points changed.\n",
      "Updating. 136 points changed.\n",
      "Updating. 122 points changed.\n",
      "Updating. 132 points changed.\n",
      "Updating. 111 points changed.\n",
      "Updating. 116 points changed.\n",
      "Updating. 117 points changed.\n",
      "Updating. 134 points changed.\n",
      "Updating. 158 points changed.\n",
      "Updating. 149 points changed.\n",
      "Updating. 133 points changed.\n",
      "Updating. 129 points changed.\n",
      "Updating. 115 points changed.\n",
      "Updating. 114 points changed.\n",
      "Updating. 119 points changed.\n",
      "Updating. 114 points changed.\n",
      "Updating. 122 points changed.\n",
      "Updating. 123 points changed.\n",
      "Updating. 117 points changed.\n",
      "Updating. 102 points changed.\n",
      "Updating. 101 points changed.\n",
      "Updating. 94 points changed.\n",
      "Updating. 109 points changed.\n",
      "Updating. 106 points changed.\n",
      "Updating. 99 points changed.\n",
      "Updating. 103 points changed.\n",
      "Updating. 93 points changed.\n",
      "Updating. 87 points changed.\n",
      "Updating. 88 points changed.\n",
      "Updating. 82 points changed.\n",
      "Updating. 82 points changed.\n",
      "Updating. 74 points changed.\n",
      "Updating. 68 points changed.\n",
      "Updating. 73 points changed.\n",
      "Updating. 64 points changed.\n",
      "Updating. 60 points changed.\n",
      "Updating. 55 points changed.\n",
      "Updating. 47 points changed.\n",
      "Updating. 47 points changed.\n",
      "Updating. 44 points changed.\n",
      "Updating. 38 points changed.\n",
      "Updating. 37 points changed.\n",
      "Updating. 32 points changed.\n",
      "Updating. 28 points changed.\n",
      "Updating. 26 points changed.\n",
      "Updating. 29 points changed.\n",
      "Updating. 25 points changed.\n",
      "Updating. 35 points changed.\n",
      "Updating. 34 points changed.\n",
      "Updating. 30 points changed.\n",
      "Updating. 26 points changed.\n",
      "Updating. 28 points changed.\n",
      "Updating. 26 points changed.\n",
      "Updating. 29 points changed.\n",
      "Updating. 14 points changed.\n",
      "Updating. 10 points changed.\n",
      "Updating. 17 points changed.\n",
      "Updating. 29 points changed.\n",
      "Updating. 26 points changed.\n",
      "Updating. 33 points changed.\n",
      "Updating. 39 points changed.\n",
      "Updating. 38 points changed.\n",
      "Updating. 27 points changed.\n",
      "Updating. 23 points changed.\n",
      "Updating. 23 points changed.\n",
      "Updating. 22 points changed.\n",
      "Updating. 20 points changed.\n",
      "Updating. 6 points changed.\n",
      "Updating. 6 points changed.\n",
      "Updating. 1 points changed.\n",
      "Updating. 17098 points changed.\n",
      "Updating. 9369 points changed.\n",
      "Updating. 6555 points changed.\n",
      "Updating. 4300 points changed.\n",
      "Updating. 3237 points changed.\n",
      "Updating. 2431 points changed.\n",
      "Updating. 1877 points changed.\n",
      "Updating. 1591 points changed.\n",
      "Updating. 1345 points changed.\n",
      "Updating. 1169 points changed.\n",
      "Updating. 1049 points changed.\n",
      "Updating. 1009 points changed.\n",
      "Updating. 998 points changed.\n",
      "Updating. 990 points changed.\n",
      "Updating. 939 points changed.\n",
      "Updating. 932 points changed.\n",
      "Updating. 894 points changed.\n",
      "Updating. 832 points changed.\n",
      "Updating. 778 points changed.\n",
      "Updating. 786 points changed.\n",
      "Updating. 751 points changed.\n",
      "Updating. 731 points changed.\n",
      "Updating. 670 points changed.\n",
      "Updating. 628 points changed.\n",
      "Updating. 543 points changed.\n",
      "Updating. 476 points changed.\n",
      "Updating. 465 points changed.\n",
      "Updating. 470 points changed.\n",
      "Updating. 456 points changed.\n",
      "Updating. 451 points changed.\n",
      "Updating. 458 points changed.\n",
      "Updating. 518 points changed.\n",
      "Updating. 535 points changed.\n"
     ]
    },
    {
     "name": "stdout",
     "output_type": "stream",
     "text": [
      "Updating. 538 points changed.\n",
      "Updating. 553 points changed.\n",
      "Updating. 543 points changed.\n",
      "Updating. 558 points changed.\n",
      "Updating. 576 points changed.\n",
      "Updating. 573 points changed.\n",
      "Updating. 615 points changed.\n",
      "Updating. 639 points changed.\n",
      "Updating. 643 points changed.\n",
      "Updating. 655 points changed.\n",
      "Updating. 592 points changed.\n",
      "Updating. 523 points changed.\n",
      "Updating. 423 points changed.\n",
      "Updating. 381 points changed.\n",
      "Updating. 322 points changed.\n",
      "Updating. 269 points changed.\n",
      "Updating. 231 points changed.\n",
      "Updating. 210 points changed.\n",
      "Updating. 177 points changed.\n",
      "Updating. 137 points changed.\n",
      "Updating. 153 points changed.\n",
      "Updating. 151 points changed.\n",
      "Updating. 157 points changed.\n",
      "Updating. 132 points changed.\n",
      "Updating. 126 points changed.\n",
      "Updating. 107 points changed.\n",
      "Updating. 93 points changed.\n",
      "Updating. 108 points changed.\n",
      "Updating. 124 points changed.\n",
      "Updating. 149 points changed.\n",
      "Updating. 143 points changed.\n",
      "Updating. 142 points changed.\n",
      "Updating. 132 points changed.\n",
      "Updating. 127 points changed.\n",
      "Updating. 103 points changed.\n",
      "Updating. 103 points changed.\n",
      "Updating. 107 points changed.\n",
      "Updating. 110 points changed.\n",
      "Updating. 115 points changed.\n",
      "Updating. 118 points changed.\n",
      "Updating. 122 points changed.\n",
      "Updating. 110 points changed.\n",
      "Updating. 112 points changed.\n",
      "Updating. 108 points changed.\n",
      "Updating. 97 points changed.\n",
      "Updating. 107 points changed.\n",
      "Updating. 105 points changed.\n",
      "Updating. 100 points changed.\n",
      "Updating. 93 points changed.\n",
      "Updating. 88 points changed.\n",
      "Updating. 91 points changed.\n",
      "Updating. 78 points changed.\n",
      "Updating. 90 points changed.\n",
      "Updating. 83 points changed.\n",
      "Updating. 73 points changed.\n",
      "Updating. 75 points changed.\n",
      "Updating. 66 points changed.\n",
      "Updating. 61 points changed.\n",
      "Updating. 51 points changed.\n",
      "Updating. 44 points changed.\n",
      "Updating. 54 points changed.\n",
      "Updating. 43 points changed.\n",
      "Updating. 38 points changed.\n",
      "Updating. 34 points changed.\n",
      "Updating. 33 points changed.\n",
      "Updating. 32 points changed.\n",
      "Updating. 28 points changed.\n",
      "Updating. 31 points changed.\n",
      "Updating. 30 points changed.\n",
      "Updating. 40 points changed.\n",
      "Updating. 27 points changed.\n",
      "Updating. 24 points changed.\n",
      "Updating. 32 points changed.\n",
      "Updating. 26 points changed.\n",
      "Updating. 26 points changed.\n",
      "Updating. 19 points changed.\n",
      "Updating. 10 points changed.\n",
      "Updating. 14 points changed.\n",
      "Updating. 27 points changed.\n",
      "Updating. 22 points changed.\n",
      "Updating. 33 points changed.\n",
      "Updating. 42 points changed.\n",
      "Updating. 39 points changed.\n",
      "Updating. 29 points changed.\n",
      "Updating. 27 points changed.\n",
      "Updating. 20 points changed.\n",
      "Updating. 26 points changed.\n",
      "Updating. 22 points changed.\n",
      "Updating. 9 points changed.\n",
      "Updating. 4 points changed.\n",
      "Updating. 1 points changed.\n",
      "Updating. 1 points changed.\n"
     ]
    }
   ],
   "source": [
    "images_train = np.array([x.flatten() for x in images_train])\n",
    "for i in range(3):\n",
    "    model = kmeans.kMeans()\n",
    "    model.train(images_train, labels_train)\n",
    "    rand_scores.append(model.rand_score())"
   ]
  },
  {
   "cell_type": "code",
   "execution_count": 5,
   "metadata": {
    "scrolled": true
   },
   "outputs": [
    {
     "name": "stdout",
     "output_type": "stream",
     "text": [
      "[6, 9, 4, 7, 2, 0, 8, 1, 3, 1]\n"
     ]
    }
   ],
   "source": [
    "model.get_cluster_labels()"
   ]
  },
  {
   "cell_type": "code",
   "execution_count": 6,
   "metadata": {},
   "outputs": [
    {
     "data": {
      "text/plain": [
       "0.8797502391706529"
      ]
     },
     "execution_count": 6,
     "metadata": {},
     "output_type": "execute_result"
    }
   ],
   "source": [
    "model.rand_score()"
   ]
  },
  {
   "cell_type": "code",
   "execution_count": 7,
   "metadata": {},
   "outputs": [
    {
     "data": {
      "text/plain": [
       "[5395, 7238, 5416, 6690, 4635, 4975, 7065, 5297, 7791, 5498]"
      ]
     },
     "execution_count": 7,
     "metadata": {},
     "output_type": "execute_result"
    }
   ],
   "source": [
    "model.cluster_counts()"
   ]
  },
  {
   "cell_type": "code",
   "execution_count": 14,
   "metadata": {},
   "outputs": [
    {
     "data": {
      "text/plain": [
       "[0.8797502391706529,\n",
       " 0.8867041722917605,\n",
       " 0.8797502391706529,\n",
       " 0.8797502391706529]"
      ]
     },
     "execution_count": 14,
     "metadata": {},
     "output_type": "execute_result"
    }
   ],
   "source": [
    "rand_scores"
   ]
  },
  {
   "cell_type": "code",
   "execution_count": 16,
   "metadata": {},
   "outputs": [
    {
     "name": "stdout",
     "output_type": "stream",
     "text": [
      "Updating. 14779 points changed.\n",
      "Updating. 8743 points changed.\n",
      "Updating. 6335 points changed.\n",
      "Updating. 4481 points changed.\n",
      "Updating. 3001 points changed.\n",
      "Updating. 2313 points changed.\n",
      "Updating. 1990 points changed.\n",
      "Updating. 1862 points changed.\n",
      "Updating. 1768 points changed.\n",
      "Updating. 1633 points changed.\n",
      "Updating. 1465 points changed.\n",
      "Updating. 1260 points changed.\n",
      "Updating. 1064 points changed.\n",
      "Updating. 853 points changed.\n",
      "Updating. 685 points changed.\n",
      "Updating. 507 points changed.\n",
      "Updating. 387 points changed.\n",
      "Updating. 293 points changed.\n",
      "Updating. 265 points changed.\n",
      "Updating. 226 points changed.\n",
      "Updating. 184 points changed.\n",
      "Updating. 185 points changed.\n",
      "Updating. 151 points changed.\n",
      "Updating. 131 points changed.\n",
      "Updating. 109 points changed.\n",
      "Updating. 103 points changed.\n",
      "Updating. 87 points changed.\n",
      "Updating. 92 points changed.\n",
      "Updating. 90 points changed.\n",
      "Updating. 88 points changed.\n",
      "Updating. 65 points changed.\n",
      "Updating. 54 points changed.\n",
      "Updating. 59 points changed.\n",
      "Updating. 58 points changed.\n",
      "Updating. 60 points changed.\n",
      "Updating. 52 points changed.\n",
      "Updating. 51 points changed.\n",
      "Updating. 43 points changed.\n",
      "Updating. 29 points changed.\n",
      "Updating. 20 points changed.\n",
      "Updating. 18 points changed.\n",
      "Updating. 23 points changed.\n",
      "Updating. 28 points changed.\n",
      "Updating. 33 points changed.\n",
      "Updating. 40 points changed.\n",
      "Updating. 42 points changed.\n",
      "Updating. 49 points changed.\n",
      "Updating. 39 points changed.\n",
      "Updating. 31 points changed.\n",
      "Updating. 26 points changed.\n",
      "Updating. 27 points changed.\n",
      "Updating. 23 points changed.\n",
      "Updating. 23 points changed.\n",
      "Updating. 36 points changed.\n",
      "Updating. 33 points changed.\n",
      "Updating. 39 points changed.\n",
      "Updating. 33 points changed.\n",
      "Updating. 35 points changed.\n",
      "Updating. 31 points changed.\n",
      "Updating. 32 points changed.\n",
      "Updating. 27 points changed.\n",
      "Updating. 30 points changed.\n",
      "Updating. 32 points changed.\n",
      "Updating. 35 points changed.\n",
      "Updating. 49 points changed.\n",
      "Updating. 49 points changed.\n",
      "Updating. 51 points changed.\n",
      "Updating. 61 points changed.\n",
      "Updating. 50 points changed.\n",
      "Updating. 57 points changed.\n",
      "Updating. 40 points changed.\n",
      "Updating. 44 points changed.\n",
      "Updating. 44 points changed.\n",
      "Updating. 39 points changed.\n",
      "Updating. 43 points changed.\n",
      "Updating. 34 points changed.\n",
      "Updating. 34 points changed.\n",
      "Updating. 39 points changed.\n",
      "Updating. 37 points changed.\n",
      "Updating. 36 points changed.\n",
      "Updating. 45 points changed.\n",
      "Updating. 49 points changed.\n",
      "Updating. 59 points changed.\n",
      "Updating. 68 points changed.\n",
      "Updating. 76 points changed.\n",
      "Updating. 76 points changed.\n",
      "Updating. 88 points changed.\n",
      "Updating. 98 points changed.\n",
      "Updating. 92 points changed.\n",
      "Updating. 83 points changed.\n",
      "Updating. 56 points changed.\n",
      "Updating. 75 points changed.\n",
      "Updating. 48 points changed.\n",
      "Updating. 65 points changed.\n",
      "Updating. 75 points changed.\n",
      "Updating. 81 points changed.\n",
      "Updating. 80 points changed.\n",
      "Updating. 63 points changed.\n",
      "Updating. 69 points changed.\n",
      "Updating. 69 points changed.\n",
      "Updating. 72 points changed.\n",
      "Updating. 73 points changed.\n",
      "Updating. 73 points changed.\n",
      "Updating. 86 points changed.\n",
      "Updating. 81 points changed.\n",
      "Updating. 75 points changed.\n",
      "Updating. 72 points changed.\n",
      "Updating. 75 points changed.\n",
      "Updating. 73 points changed.\n",
      "Updating. 67 points changed.\n",
      "Updating. 63 points changed.\n",
      "Updating. 53 points changed.\n",
      "Updating. 58 points changed.\n",
      "Updating. 59 points changed.\n",
      "Updating. 65 points changed.\n",
      "Updating. 55 points changed.\n",
      "Updating. 45 points changed.\n",
      "Updating. 29 points changed.\n",
      "Updating. 28 points changed.\n",
      "Updating. 30 points changed.\n",
      "Updating. 27 points changed.\n",
      "Updating. 23 points changed.\n",
      "Updating. 19 points changed.\n",
      "Updating. 18 points changed.\n",
      "Updating. 25 points changed.\n",
      "Updating. 25 points changed.\n",
      "Updating. 22 points changed.\n",
      "Updating. 19 points changed.\n",
      "Updating. 16 points changed.\n",
      "Updating. 10 points changed.\n",
      "Updating. 8 points changed.\n",
      "Updating. 5 points changed.\n",
      "Updating. 1 points changed.\n",
      "Updating. 1 points changed.\n",
      "Updating. 2 points changed.\n",
      "Updating. 3 points changed.\n",
      "Updating. 4 points changed.\n",
      "Updating. 3 points changed.\n",
      "Updating. 2 points changed.\n",
      "Updating. 2 points changed.\n",
      "Updating. 3 points changed.\n",
      "Updating. 3 points changed.\n",
      "Updating. 3 points changed.\n"
     ]
    }
   ],
   "source": [
    "km_model = kmeans.kMeans()\n",
    "km_model.train(images_train, labels_train)"
   ]
  },
  {
   "cell_type": "code",
   "execution_count": 25,
   "metadata": {},
   "outputs": [
    {
     "data": {
      "image/png": "[encoded data removed]",
      "text/plain": [
       "<Figure size 432x288 with 1 Axes>"
      ]
     },
     "metadata": {
      "needs_background": "light"
     },
     "output_type": "display_data"
    },
    {
     "data": {
      "image/png": "[encoded data removed]",
      "text/plain": [
       "<Figure size 432x288 with 1 Axes>"
      ]
     },
     "metadata": {
      "needs_background": "light"
     },
     "output_type": "display_data"
    },
    {
     "data": {
      "image/png": "[encoded data removed]",
      "text/plain": [
       "<Figure size 432x288 with 1 Axes>"
      ]
     },
     "metadata": {
      "needs_background": "light"
     },
     "output_type": "display_data"
    },
    {
     "data": {
      "image/png": "[encoded data removed]",
      "text/plain": [
       "<Figure size 432x288 with 1 Axes>"
      ]
     },
     "metadata": {
      "needs_background": "light"
     },
     "output_type": "display_data"
    },
    {
     "data": {
      "image/png": "[encoded data removed]",
      "text/plain": [
       "<Figure size 432x288 with 1 Axes>"
      ]
     },
     "metadata": {
      "needs_background": "light"
     },
     "output_type": "display_data"
    },
    {
     "data": {
      "image/png": "[encoded data removed]",
      "text/plain": [
       "<Figure size 432x288 with 1 Axes>"
      ]
     },
     "metadata": {
      "needs_background": "light"
     },
     "output_type": "display_data"
    },
    {
     "data": {
      "image/png": "[encoded data removed]",
      "text/plain": [
       "<Figure size 432x288 with 1 Axes>"
      ]
     },
     "metadata": {
      "needs_background": "light"
     },
     "output_type": "display_data"
    },
    {
     "data": {
      "image/png": "[encoded data removed]",
      "text/plain": [
       "<Figure size 432x288 with 1 Axes>"
      ]
     },
     "metadata": {
      "needs_background": "light"
     },
     "output_type": "display_data"
    },
    {
     "data": {
      "image/png": "[encoded data removed]",
      "text/plain": [
       "<Figure size 432x288 with 1 Axes>"
      ]
     },
     "metadata": {
      "needs_background": "light"
     },
     "output_type": "display_data"
    },
    {
     "data": {
      "image/png": "[encoded data removed]",
      "text/plain": [
       "<Figure size 432x288 with 1 Axes>"
      ]
     },
     "metadata": {
      "needs_background": "light"
     },
     "output_type": "display_data"
    }
   ],
   "source": [
    "for i in range(10):\n",
    "    im = km_model.centers[i].reshape((28,28),order='F')\n",
    "    plt.imshow(im)\n",
    "    plt.show()"
   ]
  },
  {
   "cell_type": "markdown",
   "metadata": {},
   "source": [
    "# Spectral Clustering"
   ]
  },
  {
   "cell_type": "code",
   "execution_count": 5,
   "metadata": {},
   "outputs": [],
   "source": [
    "import spectral_clustering"
   ]
  },
  {
   "cell_type": "markdown",
   "metadata": {},
   "source": [
    "### Hyperparameter Tuning"
   ]
  },
  {
   "cell_type": "markdown",
   "metadata": {},
   "source": [
    "#### Using Gaussian Kernel"
   ]
  },
  {
   "cell_type": "code",
   "execution_count": 17,
   "metadata": {},
   "outputs": [
    {
     "name": "stdout",
     "output_type": "stream",
     "text": [
      "Updating. 2216 points changed.\n",
      "Updating. 758 points changed.\n",
      "Updating. 185 points changed.\n",
      "Updating. 138 points changed.\n",
      "Updating. 65 points changed.\n",
      "Updating. 27 points changed.\n",
      "Updating. 35 points changed.\n",
      "Updating. 24 points changed.\n",
      "Updating. 11 points changed.\n",
      "Updating. 4 points changed.\n",
      "Updating. 4 points changed.\n",
      "Updating. 1 points changed.\n",
      "Updating. 2771 points changed.\n",
      "Updating. 2498 points changed.\n",
      "Updating. 465 points changed.\n",
      "Updating. 288 points changed.\n",
      "Updating. 88 points changed.\n",
      "Updating. 30 points changed.\n",
      "Updating. 22 points changed.\n",
      "Updating. 19 points changed.\n",
      "Updating. 4 points changed.\n",
      "Updating. 1 points changed.\n",
      "Updating. 1355 points changed.\n",
      "Updating. 765 points changed.\n",
      "Updating. 585 points changed.\n",
      "Updating. 409 points changed.\n",
      "Updating. 382 points changed.\n",
      "Updating. 517 points changed.\n",
      "Updating. 267 points changed.\n",
      "Updating. 146 points changed.\n",
      "Updating. 97 points changed.\n",
      "Updating. 88 points changed.\n",
      "Updating. 81 points changed.\n",
      "Updating. 60 points changed.\n",
      "Updating. 54 points changed.\n",
      "Updating. 37 points changed.\n",
      "Updating. 25 points changed.\n",
      "Updating. 24 points changed.\n",
      "Updating. 10 points changed.\n",
      "Updating. 5 points changed.\n",
      "Updating. 5 points changed.\n",
      "Updating. 9 points changed.\n",
      "Updating. 9 points changed.\n",
      "Updating. 9 points changed.\n",
      "Updating. 14 points changed.\n",
      "Updating. 7 points changed.\n",
      "Updating. 4 points changed.\n",
      "Updating. 4 points changed.\n",
      "Updating. 3 points changed.\n",
      "Updating. 4 points changed.\n",
      "Updating. 3 points changed.\n",
      "Updating. 2 points changed.\n",
      "Updating. 1 points changed.\n",
      "Updating. 1555 points changed.\n",
      "Updating. 1260 points changed.\n",
      "Updating. 1241 points changed.\n",
      "Updating. 1055 points changed.\n",
      "Updating. 625 points changed.\n",
      "Updating. 347 points changed.\n",
      "Updating. 217 points changed.\n",
      "Updating. 150 points changed.\n",
      "Updating. 114 points changed.\n",
      "Updating. 87 points changed.\n",
      "Updating. 85 points changed.\n",
      "Updating. 77 points changed.\n",
      "Updating. 69 points changed.\n",
      "Updating. 96 points changed.\n",
      "Updating. 237 points changed.\n",
      "Updating. 1345 points changed.\n",
      "Updating. 1201 points changed.\n",
      "Updating. 391 points changed.\n",
      "Updating. 174 points changed.\n",
      "Updating. 100 points changed.\n",
      "Updating. 56 points changed.\n",
      "Updating. 41 points changed.\n",
      "Updating. 33 points changed.\n",
      "Updating. 30 points changed.\n",
      "Updating. 21 points changed.\n",
      "Updating. 18 points changed.\n",
      "Updating. 21 points changed.\n",
      "Updating. 22 points changed.\n",
      "Updating. 20 points changed.\n",
      "Updating. 11 points changed.\n",
      "Updating. 5 points changed.\n",
      "Updating. 6 points changed.\n",
      "Updating. 13 points changed.\n",
      "Updating. 18 points changed.\n",
      "Updating. 15 points changed.\n",
      "Updating. 13 points changed.\n",
      "Updating. 14 points changed.\n",
      "Updating. 10 points changed.\n",
      "Updating. 4 points changed.\n",
      "Updating. 2 points changed.\n",
      "Updating. 1 points changed.\n",
      "Updating. 1 points changed.\n",
      "Updating. 2 points changed.\n",
      "Updating. 1078 points changed.\n",
      "Updating. 765 points changed.\n",
      "Updating. 724 points changed.\n",
      "Updating. 599 points changed.\n",
      "Updating. 492 points changed.\n",
      "Updating. 492 points changed.\n",
      "Updating. 478 points changed.\n",
      "Updating. 501 points changed.\n",
      "Updating. 655 points changed.\n",
      "Updating. 787 points changed.\n",
      "Updating. 683 points changed.\n",
      "Updating. 503 points changed.\n",
      "Updating. 371 points changed.\n",
      "Updating. 273 points changed.\n",
      "Updating. 196 points changed.\n",
      "Updating. 153 points changed.\n",
      "Updating. 109 points changed.\n",
      "Updating. 101 points changed.\n",
      "Updating. 83 points changed.\n",
      "Updating. 72 points changed.\n",
      "Updating. 65 points changed.\n",
      "Updating. 58 points changed.\n",
      "Updating. 39 points changed.\n",
      "Updating. 31 points changed.\n",
      "Updating. 19 points changed.\n",
      "Updating. 17 points changed.\n",
      "Updating. 9 points changed.\n",
      "Updating. 4 points changed.\n",
      "Updating. 2 points changed.\n",
      "Updating. 2 points changed.\n",
      "Updating. 1 points changed.\n"
     ]
    }
   ],
   "source": [
    "sigma = [0.5, 5, 10, 20, 50]\n",
    "rand_scores = []\n",
    "for sigma in sigma:\n",
    "    model = spectral_clustering.spectralClustering(sigma=sigma)\n",
    "    model.cluster(images_train[:4000], labels_train[:4000])\n",
    "    rand_scores.append(model.rand_score())"
   ]
  },
  {
   "cell_type": "code",
   "execution_count": 18,
   "metadata": {},
   "outputs": [
    {
     "data": {
      "text/plain": [
       "[0.41982908227056764,\n",
       " 0.12035196299074769,\n",
       " 0.12977719429857465,\n",
       " 0.16046511627906976,\n",
       " 0.1505388847211803]"
      ]
     },
     "execution_count": 18,
     "metadata": {},
     "output_type": "execute_result"
    }
   ],
   "source": [
    "rand_scores"
   ]
  },
  {
   "cell_type": "code",
   "execution_count": 5,
   "metadata": {},
   "outputs": [
    {
     "name": "stderr",
     "output_type": "stream",
     "text": [
      "C:\\Users\\nammy\\anaconda3\\lib\\site-packages\\numpy\\lib\\function_base.py:495: RuntimeWarning: Mean of empty slice.\n",
      "  avg = a.mean(axis)\n",
      "C:\\Users\\nammy\\anaconda3\\lib\\site-packages\\numpy\\core\\_methods.py:189: RuntimeWarning: invalid value encountered in double_scalars\n",
      "  ret = ret.dtype.type(ret / rcount)\n",
      "C:\\Users\\nammy\\Desktop\\MAT270-hw2\\kmeans.py:110: VisibleDeprecationWarning: Creating an ndarray from ragged nested sequences (which is a list-or-tuple of lists-or-tuples-or ndarrays with different lengths or shapes) is deprecated. If you meant to do this, you must specify 'dtype=object' when creating the ndarray.\n",
      "  return np.array(new_centers), points_changed\n"
     ]
    },
    {
     "name": "stdout",
     "output_type": "stream",
     "text": [
      "Updating. 3554 points changed.\n",
      "Updating. 905 points changed.\n",
      "Updating. 3602 points changed.\n",
      "Updating. 88 points changed.\n",
      "Updating. 65 points changed.\n",
      "Updating. 14 points changed.\n",
      "Updating. 6 points changed.\n",
      "Updating. 4 points changed.\n",
      "Updating. 1 points changed.\n"
     ]
    },
    {
     "name": "stderr",
     "output_type": "stream",
     "text": [
      "C:\\Users\\nammy\\anaconda3\\lib\\site-packages\\numpy\\lib\\function_base.py:495: RuntimeWarning: Mean of empty slice.\n",
      "  avg = a.mean(axis)\n",
      "C:\\Users\\nammy\\anaconda3\\lib\\site-packages\\numpy\\core\\_methods.py:189: RuntimeWarning: invalid value encountered in double_scalars\n",
      "  ret = ret.dtype.type(ret / rcount)\n",
      "C:\\Users\\nammy\\Desktop\\MAT270-hw2\\kmeans.py:110: VisibleDeprecationWarning: Creating an ndarray from ragged nested sequences (which is a list-or-tuple of lists-or-tuples-or ndarrays with different lengths or shapes) is deprecated. If you meant to do this, you must specify 'dtype=object' when creating the ndarray.\n",
      "  return np.array(new_centers), points_changed\n",
      "C:\\Users\\nammy\\anaconda3\\lib\\site-packages\\numpy\\lib\\function_base.py:495: RuntimeWarning: Mean of empty slice.\n",
      "  avg = a.mean(axis)\n",
      "C:\\Users\\nammy\\anaconda3\\lib\\site-packages\\numpy\\core\\_methods.py:189: RuntimeWarning: invalid value encountered in double_scalars\n",
      "  ret = ret.dtype.type(ret / rcount)\n",
      "C:\\Users\\nammy\\Desktop\\MAT270-hw2\\kmeans.py:110: VisibleDeprecationWarning: Creating an ndarray from ragged nested sequences (which is a list-or-tuple of lists-or-tuples-or ndarrays with different lengths or shapes) is deprecated. If you meant to do this, you must specify 'dtype=object' when creating the ndarray.\n",
      "  return np.array(new_centers), points_changed\n",
      "C:\\Users\\nammy\\anaconda3\\lib\\site-packages\\numpy\\lib\\function_base.py:495: RuntimeWarning: Mean of empty slice.\n",
      "  avg = a.mean(axis)\n",
      "C:\\Users\\nammy\\anaconda3\\lib\\site-packages\\numpy\\core\\_methods.py:189: RuntimeWarning: invalid value encountered in double_scalars\n",
      "  ret = ret.dtype.type(ret / rcount)\n",
      "C:\\Users\\nammy\\Desktop\\MAT270-hw2\\kmeans.py:110: VisibleDeprecationWarning: Creating an ndarray from ragged nested sequences (which is a list-or-tuple of lists-or-tuples-or ndarrays with different lengths or shapes) is deprecated. If you meant to do this, you must specify 'dtype=object' when creating the ndarray.\n",
      "  return np.array(new_centers), points_changed\n"
     ]
    }
   ],
   "source": [
    "sigma = [0.1, 0.01, 0.001, 0.0001]\n",
    "rand_scores = []\n",
    "for sigma in sigma:\n",
    "    model = spectral_clustering.spectralClustering(sigma=sigma)\n",
    "    model.cluster(images_train[:4000], labels_train[:4000])\n",
    "    rand_scores.append(model.rand_score())"
   ]
  },
  {
   "cell_type": "code",
   "execution_count": 7,
   "metadata": {},
   "outputs": [
    {
     "data": {
      "text/plain": [
       "[0.21614428607151787,\n",
       " 0.10020417604401101,\n",
       " 0.10020417604401101,\n",
       " 0.10020417604401101]"
      ]
     },
     "execution_count": 7,
     "metadata": {},
     "output_type": "execute_result"
    }
   ],
   "source": [
    "rand_scores"
   ]
  },
  {
   "cell_type": "markdown",
   "metadata": {},
   "source": [
    "#### Using KNN"
   ]
  },
  {
   "cell_type": "code",
   "execution_count": 6,
   "metadata": {},
   "outputs": [
    {
     "name": "stdout",
     "output_type": "stream",
     "text": [
      "Updating. 646 points changed.\n",
      "Updating. 343 points changed.\n",
      "Updating. 347 points changed.\n",
      "Updating. 256 points changed.\n",
      "Updating. 152 points changed.\n",
      "Updating. 144 points changed.\n",
      "Updating. 120 points changed.\n",
      "Updating. 111 points changed.\n",
      "Updating. 95 points changed.\n",
      "Updating. 65 points changed.\n",
      "Updating. 51 points changed.\n",
      "Updating. 44 points changed.\n",
      "Updating. 41 points changed.\n",
      "Updating. 28 points changed.\n",
      "Updating. 33 points changed.\n",
      "Updating. 37 points changed.\n",
      "Updating. 37 points changed.\n",
      "Updating. 41 points changed.\n",
      "Updating. 42 points changed.\n",
      "Updating. 147 points changed.\n",
      "Updating. 388 points changed.\n",
      "Updating. 182 points changed.\n",
      "Updating. 63 points changed.\n",
      "Updating. 40 points changed.\n",
      "Updating. 22 points changed.\n",
      "Updating. 10 points changed.\n",
      "Updating. 4 points changed.\n",
      "Updating. 3 points changed.\n",
      "Updating. 725 points changed.\n",
      "Updating. 196 points changed.\n",
      "Updating. 83 points changed.\n",
      "Updating. 37 points changed.\n",
      "Updating. 21 points changed.\n",
      "Updating. 7 points changed.\n",
      "Updating. 4 points changed.\n",
      "Updating. 2 points changed.\n",
      "Updating. 2 points changed.\n",
      "Updating. 2 points changed.\n",
      "Updating. 679 points changed.\n",
      "Updating. 340 points changed.\n",
      "Updating. 195 points changed.\n",
      "Updating. 255 points changed.\n",
      "Updating. 197 points changed.\n",
      "Updating. 106 points changed.\n",
      "Updating. 69 points changed.\n",
      "Updating. 49 points changed.\n",
      "Updating. 43 points changed.\n",
      "Updating. 37 points changed.\n",
      "Updating. 49 points changed.\n",
      "Updating. 57 points changed.\n",
      "Updating. 68 points changed.\n",
      "Updating. 74 points changed.\n",
      "Updating. 103 points changed.\n",
      "Updating. 182 points changed.\n",
      "Updating. 203 points changed.\n",
      "Updating. 153 points changed.\n",
      "Updating. 97 points changed.\n",
      "Updating. 64 points changed.\n",
      "Updating. 92 points changed.\n",
      "Updating. 159 points changed.\n",
      "Updating. 114 points changed.\n",
      "Updating. 72 points changed.\n",
      "Updating. 34 points changed.\n",
      "Updating. 22 points changed.\n",
      "Updating. 11 points changed.\n",
      "Updating. 1 points changed.\n",
      "Updating. 802 points changed.\n",
      "Updating. 332 points changed.\n",
      "Updating. 153 points changed.\n",
      "Updating. 81 points changed.\n",
      "Updating. 77 points changed.\n",
      "Updating. 115 points changed.\n",
      "Updating. 226 points changed.\n",
      "Updating. 196 points changed.\n",
      "Updating. 114 points changed.\n",
      "Updating. 48 points changed.\n",
      "Updating. 31 points changed.\n",
      "Updating. 13 points changed.\n",
      "Updating. 17 points changed.\n",
      "Updating. 11 points changed.\n",
      "Updating. 4 points changed.\n",
      "Updating. 4 points changed.\n",
      "Updating. 1 points changed.\n",
      "Updating. 1 points changed.\n",
      "Updating. 1 points changed.\n"
     ]
    }
   ],
   "source": [
    "neighbors = [5, 10, 20, 50]\n",
    "rand_scores = []\n",
    "for neighbor in neighbors:\n",
    "    model = spectral_clustering.spectralClustering(neighbors=neighbor)\n",
    "    model.cluster(images_train[:4000], labels_train[:4000])\n",
    "    rand_scores.append(model.rand_score())"
   ]
  },
  {
   "cell_type": "code",
   "execution_count": 7,
   "metadata": {},
   "outputs": [
    {
     "data": {
      "text/plain": [
       "[0.8585393848462115,\n",
       " 0.8969371092773193,\n",
       " 0.8693862215553888,\n",
       " 0.8558562140535134]"
      ]
     },
     "execution_count": 7,
     "metadata": {},
     "output_type": "execute_result"
    }
   ],
   "source": [
    "rand_scores"
   ]
  },
  {
   "cell_type": "markdown",
   "metadata": {},
   "source": [
    "### Testing"
   ]
  },
  {
   "cell_type": "code",
   "execution_count": 8,
   "metadata": {},
   "outputs": [
    {
     "name": "stdout",
     "output_type": "stream",
     "text": [
      "Updating. 584 points changed.\n",
      "Updating. 173 points changed.\n",
      "Updating. 86 points changed.\n",
      "Updating. 49 points changed.\n",
      "Updating. 22 points changed.\n",
      "Updating. 20 points changed.\n",
      "Updating. 16 points changed.\n",
      "Updating. 11 points changed.\n",
      "Updating. 15 points changed.\n",
      "Updating. 12 points changed.\n",
      "Updating. 8 points changed.\n",
      "Updating. 6 points changed.\n",
      "Updating. 1 points changed.\n"
     ]
    }
   ],
   "source": [
    "model = spectral_clustering.spectralClustering()\n",
    "model.cluster(images_train[:5000], labels_train[:5000])"
   ]
  },
  {
   "cell_type": "code",
   "execution_count": 15,
   "metadata": {},
   "outputs": [],
   "source": [
    "spectral_model = model"
   ]
  },
  {
   "cell_type": "code",
   "execution_count": 17,
   "metadata": {},
   "outputs": [
    {
     "data": {
      "text/plain": [
       "array([[ 5.18141252e-03+0.j,  1.74572888e-03+0.j,  8.30835376e-03+0.j,\n",
       "        -2.85638279e-02+0.j, -2.89311907e-02+0.j, -2.44622802e-02+0.j,\n",
       "        -6.96077407e-03+0.j, -6.20473054e-03+0.j, -1.68534284e-03+0.j],\n",
       "       [ 2.71491361e-03+0.j,  3.61730515e-04+0.j,  8.18163959e-03+0.j,\n",
       "        -9.59051997e-03+0.j, -1.31971869e-02+0.j, -9.76956002e-03+0.j,\n",
       "         2.94462670e-02+0.j,  2.96656529e-02+0.j,  7.07022347e-04+0.j],\n",
       "       [ 4.11128162e-02+0.j,  4.29455349e-02+0.j, -4.79850362e-03+0.j,\n",
       "         1.53742452e-03+0.j,  1.95207113e-03+0.j,  1.04351170e-03+0.j,\n",
       "        -6.96019073e-04+0.j, -7.12730980e-04+0.j, -4.91886743e-04+0.j],\n",
       "       [ 5.83413876e-04+0.j, -2.43605461e-05+0.j,  2.18314698e-02+0.j,\n",
       "         3.12077099e-03+0.j, -7.29099621e-04+0.j,  1.47973976e-05+0.j,\n",
       "         5.85748154e-04+0.j,  4.81893038e-04+0.j,  1.13751048e-02+0.j],\n",
       "       [ 3.35641543e-03+0.j,  2.59452891e-03+0.j,  4.42892113e-03+0.j,\n",
       "         1.42060207e-02+0.j, -3.39760955e-03+0.j, -1.65119137e-03+0.j,\n",
       "         5.08975761e-03+0.j,  4.50331047e-03+0.j, -6.99539153e-05+0.j],\n",
       "       [ 3.68702381e-04+0.j, -5.11611019e-05+0.j,  2.58515823e-02+0.j,\n",
       "         3.34363525e-03+0.j, -3.69172802e-05+0.j, -1.47728189e-04+0.j,\n",
       "         1.06185310e-03+0.j,  7.53410256e-04+0.j,  4.29484914e-02+0.j],\n",
       "       [ 3.29327985e-03+0.j, -1.13796923e-03+0.j,  1.09784360e-02+0.j,\n",
       "         3.41408826e-03+0.j, -4.02540506e-02+0.j,  5.30780520e-02+0.j,\n",
       "        -4.68818092e-03+0.j, -4.34258602e-03+0.j, -1.46161855e-04+0.j],\n",
       "       [ 2.04793779e-03+0.j, -4.17535646e-05+0.j,  7.97532128e-03+0.j,\n",
       "        -6.88220080e-03+0.j, -1.33409379e-02+0.j, -1.14137384e-02+0.j,\n",
       "         5.62033435e-02+0.j,  5.66125437e-02+0.j,  1.13743599e-05+0.j],\n",
       "       [ 3.13716970e-04+0.j, -2.90936262e-06+0.j,  2.27170693e-02+0.j,\n",
       "         6.07845592e-03+0.j,  2.77067748e-04+0.j,  1.65486638e-04+0.j,\n",
       "        -1.18463471e-04+0.j,  1.64739879e-05+0.j, -7.22935652e-03+0.j],\n",
       "       [ 7.42435878e-03+0.j, -3.65224687e-03+0.j,  3.53565342e-04+0.j,\n",
       "        -5.21781037e-03+0.j, -2.66543094e-03+0.j,  2.21841634e-04+0.j,\n",
       "         5.09072436e-04+0.j,  3.13765538e-04+0.j,  6.94945728e-04+0.j]])"
      ]
     },
     "execution_count": 17,
     "metadata": {},
     "output_type": "execute_result"
    }
   ],
   "source": [
    "spectral_model.model.centers"
   ]
  },
  {
   "cell_type": "code",
   "execution_count": null,
   "metadata": {},
   "outputs": [],
   "source": []
  }
 ],
 "metadata": {
  "kernelspec": {
   "display_name": "Python 3",
   "language": "python",
   "name": "python3"
  },
  "language_info": {
   "codemirror_mode": {
    "name": "ipython",
    "version": 3
   },
   "file_extension": ".py",
   "mimetype": "text/x-python",
   "name": "python",
   "nbconvert_exporter": "python",
   "pygments_lexer": "ipython3",
   "version": "3.8.3"
  }
 },
 "nbformat": 4,
 "nbformat_minor": 4
}
