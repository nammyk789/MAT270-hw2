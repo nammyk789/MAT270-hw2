{
 "cells": [
  {
   "cell_type": "code",
   "execution_count": 4,
   "metadata": {},
   "outputs": [],
   "source": [
    "import numpy as np\n",
    "from scipy.io import loadmat\n",
    "import matplotlib.pyplot as plt\n",
    "import optuna\n",
    "import plotly.express as px"
   ]
  },
  {
   "cell_type": "markdown",
   "metadata": {},
   "source": [
    "# Visualizing MNIST"
   ]
  },
  {
   "cell_type": "code",
   "execution_count": 5,
   "metadata": {},
   "outputs": [],
   "source": [
    "#Loading the data\n",
    "M = loadmat('MNIST_digit_data.mat')\n",
    "images_train,images_test,labels_train,labels_test= M['images_train'],M['images_test'],M['labels_train'],M['labels_test']"
   ]
  },
  {
   "cell_type": "code",
   "execution_count": 3,
   "metadata": {},
   "outputs": [],
   "source": [
    "#randomly permute data points\n",
    "inds = np.random.permutation(images_train.shape[0])\n",
    "images_train = images_train[inds]\n",
    "labels_train = labels_train[inds]\n",
    "\n",
    "\n",
    "inds = np.random.permutation(images_test.shape[0])\n",
    "images_test = images_test[inds]\n",
    "labels_test = labels_test[inds]"
   ]
  },
  {
   "cell_type": "code",
   "execution_count": 4,
   "metadata": {},
   "outputs": [
    {
     "data": {
      "image/png": "[encoded data removed]",
      "text/plain": [
       "<Figure size 432x288 with 1 Axes>"
      ]
     },
     "metadata": {
      "needs_background": "light"
     },
     "output_type": "display_data"
    }
   ],
   "source": [
    "#show the 10'th train image\n",
    "i=10\n",
    "im = images_train[i,:].reshape((28,28),order='F')\n",
    "plt.imshow(im)\n",
    "plt.title('Class Label:'+str(labels_train[i][0]))\n",
    "plt.show()"
   ]
  },
  {
   "cell_type": "markdown",
   "metadata": {},
   "source": [
    "# K Means- Lloyd's Algorithm"
   ]
  },
  {
   "cell_type": "markdown",
   "metadata": {},
   "source": [
    "### Hyperparameter Tuning"
   ]
  },
  {
   "cell_type": "code",
   "execution_count": 14,
   "metadata": {},
   "outputs": [],
   "source": [
    "def objective(trial):\n",
    "    hyperparam = Hyperparameters(\n",
    "        threshold = trial.suggest_float(\"threshold\", 0.00000000000000001, 0.00000000001)\n",
    "    )\n",
    "    model = kMeans(hyperparam)\n",
    "    model.train(images_train, labels_train)\n",
    "    return model.accuracy()"
   ]
  },
  {
   "cell_type": "markdown",
   "metadata": {},
   "source": [
    "### Model Testing"
   ]
  },
  {
   "cell_type": "code",
   "execution_count": 57,
   "metadata": {},
   "outputs": [],
   "source": [
    "import numpy as np\n",
    "from scipy.io import loadmat\n",
    "from scipy import stats as st\n",
    "import sklearn.metrics\n",
    "\n",
    "class kMeans:\n",
    "    def __init__(self, k = 10, threshold=0.001):\n",
    "        self.threshold = threshold\n",
    "        self.num_centers = k\n",
    "    \n",
    "    def vote(self, cluster):\n",
    "        return st.mode(self.labels[cluster])\n",
    "    \n",
    "    def get_cluster_labels(self):\n",
    "        clusters = self.__get_clusters()\n",
    "        labels = [0] * self.num_centers\n",
    "        for i in range(self.num_centers):\n",
    "            labels[i] = st.mode(self.labels[clusters[i]])[0][0][0]\n",
    "        print(labels) \n",
    "\n",
    "    def accuracy(self):\n",
    "        clusters = self.__get_clusters()\n",
    "        label_pred = [0] * len(self.labels)\n",
    "        for cluster in clusters:\n",
    "            cluster_vote = st.mode(self.labels[cluster])[0][0][0]\n",
    "            for idx in cluster:\n",
    "                label_pred[idx] = cluster_vote\n",
    "        return sklearn.metrics.adjusted_rand_score(self.labels.flatten(), np.array(label_pred))\n",
    "\n",
    "\n",
    "    def train(self, data, labels):\n",
    "        self.data = data\n",
    "        self.labels = labels\n",
    "        self.__initialize_centroids()\n",
    "        new_centroids = self.__update_centroids()\n",
    "        # while self.__is_outside_of_threshold(new_centroids):  # update until change is small\n",
    "        #     self.centers = new_centroids\n",
    "        #     new_centroids = self.__update_centroids()\n",
    "        for _ in range(50):  # only 61%\n",
    "            self.centers = self.__update_centroids()\n",
    "    \n",
    "    def __initialize_centroids(self):\n",
    "        \"\"\"\n",
    "        initialize 10 random data points to be \n",
    "        the first 10 centers\n",
    "        \"\"\"\n",
    "        init_centers = np.random.randint(low=0, high=self.data.shape[0], size=self.num_centers)\n",
    "        self.centers = self.data[init_centers]\n",
    "      \n",
    "    \n",
    "    def __get_clusters(self):\n",
    "        \"\"\"\n",
    "        sorts indices of training data into clusters, returns a 2D array of clusters\n",
    "        \"\"\"\n",
    "        clusters = []\n",
    "        for _ in range(self.num_centers):\n",
    "            clusters.append([])  # initialize list of clusters\n",
    "        for i in range(len(self.data)):\n",
    "            closest_center = 0\n",
    "            min_distance = np.linalg.norm(self.data[i] - self.centers[0], ord=2)\n",
    "            for j in range(1, self.num_centers):\n",
    "                distance = np.linalg.norm(self.data[i] - self.centers[j], ord=2)\n",
    "                if distance < min_distance:\n",
    "                    min_distance = distance\n",
    "                    closest_center = j\n",
    "            clusters[closest_center].append(i) \n",
    "        clusters = np.array([np.array(cluster) for cluster in clusters], dtype='object')  # convert to numpy array\n",
    "        return clusters \n",
    "    \n",
    "    def __update_centroids(self):\n",
    "        clusters = self.__get_clusters()\n",
    "        new_centers = [0] * self.num_centers\n",
    "        for i in range(self.num_centers):\n",
    "            cluster = self.data[clusters[i]]\n",
    "            new_centers[i] = np.average(cluster, axis=0)\n",
    "        return np.array(new_centers)\n",
    "    \n",
    "    def __is_outside_of_threshold(self, new_centers):\n",
    "        # check that update change is greater than threshold\n",
    "        delta = np.subtract(new_centers, self.centers)\n",
    "        if np.average(delta) > self.threshold:\n",
    "            return True\n",
    "        return False"
   ]
  },
  {
   "cell_type": "code",
   "execution_count": 58,
   "metadata": {},
   "outputs": [],
   "source": [
    "model = kMeans()\n",
    "model.train(images_train, labels_train)"
   ]
  },
  {
   "cell_type": "code",
   "execution_count": 59,
   "metadata": {},
   "outputs": [
    {
     "name": "stdout",
     "output_type": "stream",
     "text": [
      "[2, 0, 3, 8, 5, 4, 7, 1, 1, 6]\n"
     ]
    }
   ],
   "source": [
    "model.get_cluster_labels()"
   ]
  },
  {
   "cell_type": "code",
   "execution_count": 60,
   "metadata": {},
   "outputs": [
    {
     "data": {
      "text/plain": [
       "0.39302156371517116"
      ]
     },
     "execution_count": 60,
     "metadata": {},
     "output_type": "execute_result"
    }
   ],
   "source": [
    "model.accuracy()"
   ]
  },
  {
   "cell_type": "code",
   "execution_count": 27,
   "metadata": {},
   "outputs": [
    {
     "data": {
      "text/plain": [
       "1.0"
      ]
     },
     "execution_count": 27,
     "metadata": {},
     "output_type": "execute_result"
    }
   ],
   "source": [
    ">>> from sklearn.metrics.cluster import adjusted_rand_score\n",
    ">>> adjusted_rand_score([0, 0, 1, 1], [0, 0, 1, 1])"
   ]
  },
  {
   "cell_type": "code",
   "execution_count": 52,
   "metadata": {},
   "outputs": [
    {
     "data": {
      "text/plain": [
       "(60000, 1)"
      ]
     },
     "execution_count": 52,
     "metadata": {},
     "output_type": "execute_result"
    }
   ],
   "source": [
    "labels_train.shape"
   ]
  },
  {
   "cell_type": "code",
   "execution_count": null,
   "metadata": {},
   "outputs": [],
   "source": []
  }
 ],
 "metadata": {
  "kernelspec": {
   "display_name": "Python 3",
   "language": "python",
   "name": "python3"
  },
  "language_info": {
   "codemirror_mode": {
    "name": "ipython",
    "version": 3
   },
   "file_extension": ".py",
   "mimetype": "text/x-python",
   "name": "python",
   "nbconvert_exporter": "python",
   "pygments_lexer": "ipython3",
   "version": "3.8.3"
  }
 },
 "nbformat": 4,
 "nbformat_minor": 4
}
