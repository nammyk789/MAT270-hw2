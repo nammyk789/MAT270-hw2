{
 "cells": [
  {
   "cell_type": "code",
   "execution_count": 1,
   "metadata": {},
   "outputs": [],
   "source": [
    "import numpy as np\n",
    "from scipy.io import loadmat\n",
    "import matplotlib.pyplot as plt\n",
    "import optuna\n",
    "import plotly.express as px\n",
    "from kmeans import *"
   ]
  },
  {
   "cell_type": "markdown",
   "metadata": {},
   "source": [
    "# Visualizing MNIST"
   ]
  },
  {
   "cell_type": "code",
   "execution_count": 2,
   "metadata": {},
   "outputs": [],
   "source": [
    "#Loading the data\n",
    "M = loadmat('MNIST_digit_data.mat')\n",
    "images_train,images_test,labels_train,labels_test= M['images_train'],M['images_test'],M['labels_train'],M['labels_test']"
   ]
  },
  {
   "cell_type": "code",
   "execution_count": 3,
   "metadata": {},
   "outputs": [],
   "source": [
    "#randomly permute data points\n",
    "inds = np.random.permutation(images_train.shape[0])\n",
    "images_train = images_train[inds]\n",
    "labels_train = labels_train[inds]\n",
    "\n",
    "\n",
    "inds = np.random.permutation(images_test.shape[0])\n",
    "images_test = images_test[inds]\n",
    "labels_test = labels_test[inds]"
   ]
  },
  {
   "cell_type": "code",
   "execution_count": 4,
   "metadata": {},
   "outputs": [
    {
     "data": {
      "image/png": "[encoded data removed]",
      "text/plain": [
       "<Figure size 432x288 with 1 Axes>"
      ]
     },
     "metadata": {
      "needs_background": "light"
     },
     "output_type": "display_data"
    }
   ],
   "source": [
    "#show the 10'th train image\n",
    "i=10\n",
    "im = images_train[i,:].reshape((28,28),order='F')\n",
    "plt.imshow(im)\n",
    "plt.title('Class Label:'+str(labels_train[i][0]))\n",
    "plt.show()"
   ]
  },
  {
   "cell_type": "markdown",
   "metadata": {},
   "source": [
    "# K Means- Lloyd's Algorithm"
   ]
  },
  {
   "cell_type": "markdown",
   "metadata": {},
   "source": [
    "### Hyperparameter Tuning"
   ]
  },
  {
   "cell_type": "code",
   "execution_count": 11,
   "metadata": {},
   "outputs": [],
   "source": [
    "def objective(trial):\n",
    "    hyperparam = Hyperparameters(\n",
    "        threshold = trial.suggest_float(\"threshold\", 0.00000000000000001, 0.00000000001)\n",
    "    )\n",
    "    model = kMeans(hyperparam)\n",
    "    model.train(images_train, labels_train)\n",
    "    return model.accuracy()"
   ]
  },
  {
   "cell_type": "code",
   "execution_count": 12,
   "metadata": {},
   "outputs": [
    {
     "name": "stderr",
     "output_type": "stream",
     "text": [
      "\u001b[32m[I 2022-05-04 18:50:02,374]\u001b[0m A new study created in memory with name: no-name-a361811b-40e5-4817-8703-27ad5c63cde5\u001b[0m\n",
      "\u001b[32m[I 2022-05-04 18:50:10,109]\u001b[0m Trial 0 finished with value: 0.49871984539650654 and parameters: {'threshold': 0.0755164991343462}. Best is trial 0 with value: 0.49871984539650654.\u001b[0m\n",
      "\u001b[32m[I 2022-05-04 18:50:17,837]\u001b[0m Trial 1 finished with value: 0.45591932369293003 and parameters: {'threshold': 0.003169964872959346}. Best is trial 0 with value: 0.49871984539650654.\u001b[0m\n",
      "\u001b[32m[I 2022-05-04 18:50:43,454]\u001b[0m Trial 2 finished with value: 0.5608026651724083 and parameters: {'threshold': 0.011813638338077529}. Best is trial 2 with value: 0.5608026651724083.\u001b[0m\n",
      "\u001b[32m[I 2022-05-04 18:51:00,193]\u001b[0m Trial 3 finished with value: 0.5029055294944407 and parameters: {'threshold': 0.0047200322855938635}. Best is trial 2 with value: 0.5608026651724083.\u001b[0m\n",
      "\u001b[32m[I 2022-05-04 18:51:16,980]\u001b[0m Trial 4 finished with value: 0.4600589798807355 and parameters: {'threshold': 0.0054555747275154606}. Best is trial 2 with value: 0.5608026651724083.\u001b[0m\n",
      "\u001b[32m[I 2022-05-04 18:51:24,240]\u001b[0m Trial 5 finished with value: 0.5036477617127911 and parameters: {'threshold': 0.0031125900945374397}. Best is trial 2 with value: 0.5608026651724083.\u001b[0m\n",
      "\u001b[32m[I 2022-05-04 18:51:46,108]\u001b[0m Trial 6 finished with value: 0.4033696332256978 and parameters: {'threshold': 0.09816136458035948}. Best is trial 2 with value: 0.5608026651724083.\u001b[0m\n",
      "\u001b[32m[I 2022-05-04 18:51:53,425]\u001b[0m Trial 7 finished with value: 0.4705318787132134 and parameters: {'threshold': 0.02426575414906544}. Best is trial 2 with value: 0.5608026651724083.\u001b[0m\n",
      "\u001b[32m[I 2022-05-04 18:52:15,310]\u001b[0m Trial 8 finished with value: 0.4297457434825927 and parameters: {'threshold': 0.09457593497152604}. Best is trial 2 with value: 0.5608026651724083.\u001b[0m\n",
      "\u001b[32m[I 2022-05-04 18:52:26,645]\u001b[0m Trial 9 finished with value: 0.46866988121406167 and parameters: {'threshold': 0.003952355133818822}. Best is trial 2 with value: 0.5608026651724083.\u001b[0m\n",
      "\u001b[32m[I 2022-05-04 18:52:48,724]\u001b[0m Trial 10 finished with value: 0.44245575874341575 and parameters: {'threshold': 0.037433500933612106}. Best is trial 2 with value: 0.5608026651724083.\u001b[0m\n",
      "\u001b[32m[I 2022-05-04 18:52:56,156]\u001b[0m Trial 11 finished with value: 0.3628384341060704 and parameters: {'threshold': 0.028677113288974654}. Best is trial 2 with value: 0.5608026651724083.\u001b[0m\n",
      "\u001b[32m[I 2022-05-04 18:53:03,431]\u001b[0m Trial 12 finished with value: 0.32283508246247056 and parameters: {'threshold': 0.05193363279325787}. Best is trial 2 with value: 0.5608026651724083.\u001b[0m\n",
      "\u001b[32m[I 2022-05-04 18:53:29,024]\u001b[0m Trial 13 finished with value: 0.5288971228617007 and parameters: {'threshold': 0.022031714347583616}. Best is trial 2 with value: 0.5608026651724083.\u001b[0m\n",
      "\u001b[32m[I 2022-05-04 18:53:37,334]\u001b[0m Trial 14 finished with value: 0.4288803658796434 and parameters: {'threshold': 0.02207845635102181}. Best is trial 2 with value: 0.5608026651724083.\u001b[0m\n",
      "\u001b[32m[I 2022-05-04 18:53:58,289]\u001b[0m Trial 15 finished with value: 0.40208872597417655 and parameters: {'threshold': 0.043546155686154844}. Best is trial 2 with value: 0.5608026651724083.\u001b[0m\n",
      "\u001b[32m[I 2022-05-04 18:54:05,847]\u001b[0m Trial 16 finished with value: 0.45031036705885075 and parameters: {'threshold': 0.05398349230641396}. Best is trial 2 with value: 0.5608026651724083.\u001b[0m\n",
      "\u001b[32m[I 2022-05-04 18:54:28,197]\u001b[0m Trial 17 finished with value: 0.4683812825305401 and parameters: {'threshold': 0.019760841685723528}. Best is trial 2 with value: 0.5608026651724083.\u001b[0m\n",
      "\u001b[32m[I 2022-05-04 18:54:35,612]\u001b[0m Trial 18 finished with value: 0.3885818822426929 and parameters: {'threshold': 0.06311852418809848}. Best is trial 2 with value: 0.5608026651724083.\u001b[0m\n",
      "\u001b[32m[I 2022-05-04 18:54:58,178]\u001b[0m Trial 19 finished with value: 0.42180172525947934 and parameters: {'threshold': 0.01525254874445545}. Best is trial 2 with value: 0.5608026651724083.\u001b[0m\n",
      "\u001b[32m[I 2022-05-04 18:55:05,866]\u001b[0m Trial 20 finished with value: 0.44949716062455825 and parameters: {'threshold': 0.03428672251891629}. Best is trial 2 with value: 0.5608026651724083.\u001b[0m\n",
      "\u001b[32m[I 2022-05-04 18:55:13,718]\u001b[0m Trial 21 finished with value: 0.4178878929139976 and parameters: {'threshold': 0.012634155049877329}. Best is trial 2 with value: 0.5608026651724083.\u001b[0m\n",
      "\u001b[32m[I 2022-05-04 18:55:23,505]\u001b[0m Trial 22 finished with value: 0.4784077626340103 and parameters: {'threshold': 0.01748048680211104}. Best is trial 2 with value: 0.5608026651724083.\u001b[0m\n",
      "\u001b[32m[I 2022-05-04 18:55:30,703]\u001b[0m Trial 23 finished with value: 0.47522295825706895 and parameters: {'threshold': 0.010787957151029526}. Best is trial 2 with value: 0.5608026651724083.\u001b[0m\n",
      "\u001b[32m[I 2022-05-04 18:55:37,915]\u001b[0m Trial 24 finished with value: 0.48800267056846197 and parameters: {'threshold': 0.03147378479561834}. Best is trial 2 with value: 0.5608026651724083.\u001b[0m\n",
      "\u001b[32m[I 2022-05-04 18:55:48,870]\u001b[0m Trial 25 finished with value: 0.4935725921725798 and parameters: {'threshold': 0.0002183678589484494}. Best is trial 2 with value: 0.5608026651724083.\u001b[0m\n",
      "\u001b[32m[I 2022-05-04 18:55:56,143]\u001b[0m Trial 26 finished with value: 0.33510883809495734 and parameters: {'threshold': 0.04071471187489148}. Best is trial 2 with value: 0.5608026651724083.\u001b[0m\n",
      "\u001b[32m[I 2022-05-04 18:56:03,403]\u001b[0m Trial 27 finished with value: 0.39919872448207494 and parameters: {'threshold': 0.010190989173570461}. Best is trial 2 with value: 0.5608026651724083.\u001b[0m\n",
      "\u001b[32m[I 2022-05-04 18:56:10,692]\u001b[0m Trial 28 finished with value: 0.33849834360615305 and parameters: {'threshold': 0.028608603474642273}. Best is trial 2 with value: 0.5608026651724083.\u001b[0m\n",
      "\u001b[32m[I 2022-05-04 18:56:17,992]\u001b[0m Trial 29 finished with value: 0.4122330451311358 and parameters: {'threshold': 0.0747994822438966}. Best is trial 2 with value: 0.5608026651724083.\u001b[0m\n",
      "\u001b[32m[I 2022-05-04 18:56:25,203]\u001b[0m Trial 30 finished with value: 0.29556149168962037 and parameters: {'threshold': 0.04568601958577821}. Best is trial 2 with value: 0.5608026651724083.\u001b[0m\n",
      "\u001b[32m[I 2022-05-04 18:56:36,151]\u001b[0m Trial 31 finished with value: 0.45503558202579225 and parameters: {'threshold': 0.007761203957132078}. Best is trial 2 with value: 0.5608026651724083.\u001b[0m\n",
      "\u001b[32m[I 2022-05-04 18:56:47,180]\u001b[0m Trial 32 finished with value: 0.5205022520293362 and parameters: {'threshold': 0.002526283546154369}. Best is trial 2 with value: 0.5608026651724083.\u001b[0m\n",
      "\u001b[32m[I 2022-05-04 18:56:58,225]\u001b[0m Trial 33 finished with value: 0.38961992391907874 and parameters: {'threshold': 0.015006470502873102}. Best is trial 2 with value: 0.5608026651724083.\u001b[0m\n",
      "\u001b[32m[I 2022-05-04 18:57:05,546]\u001b[0m Trial 34 finished with value: 0.3788131130924593 and parameters: {'threshold': 0.0013727036765625537}. Best is trial 2 with value: 0.5608026651724083.\u001b[0m\n",
      "\u001b[32m[I 2022-05-04 18:57:12,772]\u001b[0m Trial 35 finished with value: 0.45179297109472705 and parameters: {'threshold': 0.023218198262922807}. Best is trial 2 with value: 0.5608026651724083.\u001b[0m\n",
      "\u001b[32m[I 2022-05-04 18:57:23,690]\u001b[0m Trial 36 finished with value: 0.49037031111117524 and parameters: {'threshold': 0.006921975801081612}. Best is trial 2 with value: 0.5608026651724083.\u001b[0m\n",
      "\u001b[32m[I 2022-05-04 18:57:34,669]\u001b[0m Trial 37 finished with value: 0.5530886234771342 and parameters: {'threshold': 0.0003175099752221709}. Best is trial 2 with value: 0.5608026651724083.\u001b[0m\n",
      "\u001b[32m[I 2022-05-04 18:57:45,586]\u001b[0m Trial 38 finished with value: 0.538488006030003 and parameters: {'threshold': 0.008597767975655559}. Best is trial 2 with value: 0.5608026651724083.\u001b[0m\n",
      "\u001b[32m[I 2022-05-04 18:57:52,859]\u001b[0m Trial 39 finished with value: 0.5107650847787248 and parameters: {'threshold': 0.025312749500298326}. Best is trial 2 with value: 0.5608026651724083.\u001b[0m\n",
      "\u001b[32m[I 2022-05-04 18:58:00,116]\u001b[0m Trial 40 finished with value: 0.48621389568878326 and parameters: {'threshold': 0.017155079196115173}. Best is trial 2 with value: 0.5608026651724083.\u001b[0m\n",
      "\u001b[32m[I 2022-05-04 18:58:07,358]\u001b[0m Trial 41 finished with value: 0.48688769512391156 and parameters: {'threshold': 0.007011063643500405}. Best is trial 2 with value: 0.5608026651724083.\u001b[0m\n",
      "\u001b[32m[I 2022-05-04 18:58:18,396]\u001b[0m Trial 42 finished with value: 0.5029545793526329 and parameters: {'threshold': 0.001873908791652479}. Best is trial 2 with value: 0.5608026651724083.\u001b[0m\n"
     ]
    },
    {
     "name": "stderr",
     "output_type": "stream",
     "text": [
      "\u001b[32m[I 2022-05-04 18:58:25,622]\u001b[0m Trial 43 finished with value: 0.46853537548051016 and parameters: {'threshold': 0.010993847991241607}. Best is trial 2 with value: 0.5608026651724083.\u001b[0m\n",
      "\u001b[32m[I 2022-05-04 18:58:36,713]\u001b[0m Trial 44 finished with value: 0.5132079864598555 and parameters: {'threshold': 0.004970308842222011}. Best is trial 2 with value: 0.5608026651724083.\u001b[0m\n",
      "\u001b[32m[I 2022-05-04 18:58:44,016]\u001b[0m Trial 45 finished with value: 0.39073181751885 and parameters: {'threshold': 0.019384001855859888}. Best is trial 2 with value: 0.5608026651724083.\u001b[0m\n",
      "\u001b[32m[I 2022-05-04 18:58:51,306]\u001b[0m Trial 46 finished with value: 0.3706540246954554 and parameters: {'threshold': 0.01265068099194595}. Best is trial 2 with value: 0.5608026651724083.\u001b[0m\n",
      "\u001b[32m[I 2022-05-04 18:58:58,603]\u001b[0m Trial 47 finished with value: 0.3858555285445391 and parameters: {'threshold': 0.09049038801843903}. Best is trial 2 with value: 0.5608026651724083.\u001b[0m\n",
      "\u001b[32m[I 2022-05-04 18:59:11,407]\u001b[0m Trial 48 finished with value: 0.4863712711212253 and parameters: {'threshold': 0.0003992320243428591}. Best is trial 2 with value: 0.5608026651724083.\u001b[0m\n",
      "\u001b[32m[I 2022-05-04 18:59:22,704]\u001b[0m Trial 49 finished with value: 0.5238275242806563 and parameters: {'threshold': 0.006300688703792865}. Best is trial 2 with value: 0.5608026651724083.\u001b[0m\n",
      "\u001b[32m[I 2022-05-04 18:59:30,027]\u001b[0m Trial 50 finished with value: 0.45789910282600715 and parameters: {'threshold': 0.025713921362764486}. Best is trial 2 with value: 0.5608026651724083.\u001b[0m\n",
      "\u001b[32m[I 2022-05-04 18:59:40,977]\u001b[0m Trial 51 finished with value: 0.488978189736276 and parameters: {'threshold': 0.006417906368470277}. Best is trial 2 with value: 0.5608026651724083.\u001b[0m\n",
      "\u001b[32m[I 2022-05-04 18:59:52,154]\u001b[0m Trial 52 finished with value: 0.3976264765655121 and parameters: {'threshold': 0.009458920300793776}. Best is trial 2 with value: 0.5608026651724083.\u001b[0m\n",
      "\u001b[32m[I 2022-05-04 18:59:59,421]\u001b[0m Trial 53 finished with value: 0.42194384145451347 and parameters: {'threshold': 0.004157898705493717}. Best is trial 2 with value: 0.5608026651724083.\u001b[0m\n",
      "\u001b[32m[I 2022-05-04 19:00:08,110]\u001b[0m Trial 54 finished with value: 0.40760710144407064 and parameters: {'threshold': 0.020991692710916984}. Best is trial 2 with value: 0.5608026651724083.\u001b[0m\n",
      "\u001b[32m[I 2022-05-04 19:00:15,718]\u001b[0m Trial 55 finished with value: 0.42299098635668003 and parameters: {'threshold': 0.014488781115464259}. Best is trial 2 with value: 0.5608026651724083.\u001b[0m\n",
      "\u001b[32m[I 2022-05-04 19:00:23,258]\u001b[0m Trial 56 finished with value: 0.4129790752689877 and parameters: {'threshold': 0.003644948536833545}. Best is trial 2 with value: 0.5608026651724083.\u001b[0m\n",
      "\u001b[32m[I 2022-05-04 19:00:30,638]\u001b[0m Trial 57 finished with value: 0.4195706195149711 and parameters: {'threshold': 0.06065703210904251}. Best is trial 2 with value: 0.5608026651724083.\u001b[0m\n",
      "\u001b[32m[I 2022-05-04 19:00:37,977]\u001b[0m Trial 58 finished with value: 0.47530145679373725 and parameters: {'threshold': 0.015220241646160843}. Best is trial 2 with value: 0.5608026651724083.\u001b[0m\n",
      "\u001b[32m[I 2022-05-04 19:00:49,060]\u001b[0m Trial 59 finished with value: 0.5025931985096408 and parameters: {'threshold': 0.010294572866374103}. Best is trial 2 with value: 0.5608026651724083.\u001b[0m\n",
      "\u001b[32m[I 2022-05-04 19:00:56,381]\u001b[0m Trial 60 finished with value: 0.45085064571045647 and parameters: {'threshold': 0.018252225058983343}. Best is trial 2 with value: 0.5608026651724083.\u001b[0m\n",
      "\u001b[32m[I 2022-05-04 19:01:07,379]\u001b[0m Trial 61 finished with value: 0.4981893959419949 and parameters: {'threshold': 0.005055591086857412}. Best is trial 2 with value: 0.5608026651724083.\u001b[0m\n",
      "\u001b[32m[I 2022-05-04 19:01:18,484]\u001b[0m Trial 62 finished with value: 0.4998039519430957 and parameters: {'threshold': 0.00016193983144239697}. Best is trial 2 with value: 0.5608026651724083.\u001b[0m\n",
      "\u001b[32m[I 2022-05-04 19:01:29,512]\u001b[0m Trial 63 finished with value: 0.4464617581363781 and parameters: {'threshold': 0.005031813648241384}. Best is trial 2 with value: 0.5608026651724083.\u001b[0m\n",
      "\u001b[32m[I 2022-05-04 19:01:40,494]\u001b[0m Trial 64 finished with value: 0.5100972468206215 and parameters: {'threshold': 0.012296320240172104}. Best is trial 2 with value: 0.5608026651724083.\u001b[0m\n",
      "\u001b[32m[I 2022-05-04 19:01:51,521]\u001b[0m Trial 65 finished with value: 0.42312800971108905 and parameters: {'threshold': 0.00857203113084811}. Best is trial 2 with value: 0.5608026651724083.\u001b[0m\n",
      "\u001b[32m[I 2022-05-04 19:02:02,924]\u001b[0m Trial 66 finished with value: 0.5479839355080522 and parameters: {'threshold': 0.004568532257489594}. Best is trial 2 with value: 0.5608026651724083.\u001b[0m\n",
      "\u001b[32m[I 2022-05-04 19:02:10,446]\u001b[0m Trial 67 finished with value: 0.47490678890429955 and parameters: {'threshold': 0.013389015200783658}. Best is trial 2 with value: 0.5608026651724083.\u001b[0m\n",
      "\u001b[32m[I 2022-05-04 19:02:22,501]\u001b[0m Trial 68 finished with value: 0.5391163404063063 and parameters: {'threshold': 0.0028550145066521208}. Best is trial 2 with value: 0.5608026651724083.\u001b[0m\n",
      "\u001b[32m[I 2022-05-04 19:02:29,821]\u001b[0m Trial 69 finished with value: 0.48850384669865765 and parameters: {'threshold': 0.008201251904263351}. Best is trial 2 with value: 0.5608026651724083.\u001b[0m\n",
      "\u001b[32m[I 2022-05-04 19:02:37,140]\u001b[0m Trial 70 finished with value: 0.46233155858984554 and parameters: {'threshold': 0.036688285099771185}. Best is trial 2 with value: 0.5608026651724083.\u001b[0m\n",
      "\u001b[32m[I 2022-05-04 19:02:48,152]\u001b[0m Trial 71 finished with value: 0.5075930492425651 and parameters: {'threshold': 0.0023922434982034135}. Best is trial 2 with value: 0.5608026651724083.\u001b[0m\n",
      "\u001b[32m[I 2022-05-04 19:02:59,179]\u001b[0m Trial 72 finished with value: 0.5177420509515114 and parameters: {'threshold': 0.0032158190045727068}. Best is trial 2 with value: 0.5608026651724083.\u001b[0m\n",
      "\u001b[32m[I 2022-05-04 19:03:10,726]\u001b[0m Trial 73 finished with value: 0.5359073036261217 and parameters: {'threshold': 0.007197671256354202}. Best is trial 2 with value: 0.5608026651724083.\u001b[0m\n",
      "\u001b[32m[I 2022-05-04 19:03:18,143]\u001b[0m Trial 74 finished with value: 0.3801698130828503 and parameters: {'threshold': 0.016086699347349014}. Best is trial 2 with value: 0.5608026651724083.\u001b[0m\n",
      "\u001b[32m[I 2022-05-04 19:03:29,247]\u001b[0m Trial 75 finished with value: 0.4919182350592355 and parameters: {'threshold': 0.008743962712555254}. Best is trial 2 with value: 0.5608026651724083.\u001b[0m\n",
      "\u001b[32m[I 2022-05-04 19:03:40,334]\u001b[0m Trial 76 finished with value: 0.48076884624379007 and parameters: {'threshold': 0.010797977809871082}. Best is trial 2 with value: 0.5608026651724083.\u001b[0m\n",
      "\u001b[32m[I 2022-05-04 19:03:47,660]\u001b[0m Trial 77 finished with value: 0.4260566546691692 and parameters: {'threshold': 0.029798448802607673}. Best is trial 2 with value: 0.5608026651724083.\u001b[0m\n",
      "\u001b[32m[I 2022-05-04 19:03:55,231]\u001b[0m Trial 78 finished with value: 0.4365060273169392 and parameters: {'threshold': 0.021330974587645726}. Best is trial 2 with value: 0.5608026651724083.\u001b[0m\n",
      "\u001b[32m[I 2022-05-04 19:04:06,399]\u001b[0m Trial 79 finished with value: 0.4432875551333651 and parameters: {'threshold': 0.006319884753337073}. Best is trial 2 with value: 0.5608026651724083.\u001b[0m\n",
      "\u001b[32m[I 2022-05-04 19:04:14,348]\u001b[0m Trial 80 finished with value: 0.42808245676314205 and parameters: {'threshold': 0.017840042623124622}. Best is trial 2 with value: 0.5608026651724083.\u001b[0m\n",
      "\u001b[32m[I 2022-05-04 19:04:25,440]\u001b[0m Trial 81 finished with value: 0.545703303302993 and parameters: {'threshold': 0.0027648071483092145}. Best is trial 2 with value: 0.5608026651724083.\u001b[0m\n",
      "\u001b[32m[I 2022-05-04 19:04:36,593]\u001b[0m Trial 82 finished with value: 0.44106836991502746 and parameters: {'threshold': 0.006558905569802436}. Best is trial 2 with value: 0.5608026651724083.\u001b[0m\n",
      "\u001b[32m[I 2022-05-04 19:04:43,834]\u001b[0m Trial 83 finished with value: 0.43674649406690386 and parameters: {'threshold': 0.00030599534041221435}. Best is trial 2 with value: 0.5608026651724083.\u001b[0m\n",
      "\u001b[32m[I 2022-05-04 19:04:54,880]\u001b[0m Trial 84 finished with value: 0.48258901161495993 and parameters: {'threshold': 0.011737032578902797}. Best is trial 2 with value: 0.5608026651724083.\u001b[0m\n",
      "\u001b[32m[I 2022-05-04 19:05:06,018]\u001b[0m Trial 85 finished with value: 0.5201631895316997 and parameters: {'threshold': 0.0033184465956975786}. Best is trial 2 with value: 0.5608026651724083.\u001b[0m\n"
     ]
    },
    {
     "name": "stderr",
     "output_type": "stream",
     "text": [
      "\u001b[32m[I 2022-05-04 19:05:17,224]\u001b[0m Trial 86 finished with value: 0.46685780239668506 and parameters: {'threshold': 0.009538619341603563}. Best is trial 2 with value: 0.5608026651724083.\u001b[0m\n",
      "\u001b[32m[I 2022-05-04 19:05:24,645]\u001b[0m Trial 87 finished with value: 0.414126472208376 and parameters: {'threshold': 0.08156084993346706}. Best is trial 2 with value: 0.5608026651724083.\u001b[0m\n",
      "\u001b[32m[I 2022-05-04 19:05:35,950]\u001b[0m Trial 88 finished with value: 0.5728127279571354 and parameters: {'threshold': 0.005058804292339338}. Best is trial 88 with value: 0.5728127279571354.\u001b[0m\n",
      "\u001b[32m[I 2022-05-04 19:05:47,142]\u001b[0m Trial 89 finished with value: 0.4753389064956437 and parameters: {'threshold': 0.014287857843935731}. Best is trial 88 with value: 0.5728127279571354.\u001b[0m\n",
      "\u001b[32m[I 2022-05-04 19:05:54,627]\u001b[0m Trial 90 finished with value: 0.44667491339262894 and parameters: {'threshold': 0.0023799068944204407}. Best is trial 88 with value: 0.5728127279571354.\u001b[0m\n",
      "\u001b[32m[I 2022-05-04 19:06:06,031]\u001b[0m Trial 91 finished with value: 0.5016775266072107 and parameters: {'threshold': 0.0053891014062759195}. Best is trial 88 with value: 0.5728127279571354.\u001b[0m\n",
      "\u001b[32m[I 2022-05-04 19:06:13,525]\u001b[0m Trial 92 finished with value: 0.4639674965451993 and parameters: {'threshold': 0.007570753113934757}. Best is trial 88 with value: 0.5728127279571354.\u001b[0m\n",
      "\u001b[32m[I 2022-05-04 19:06:24,822]\u001b[0m Trial 93 finished with value: 0.48633996868059776 and parameters: {'threshold': 9.740259307126098e-05}. Best is trial 88 with value: 0.5728127279571354.\u001b[0m\n",
      "\u001b[32m[I 2022-05-04 19:06:36,067]\u001b[0m Trial 94 finished with value: 0.582375944256602 and parameters: {'threshold': 0.004468680612102247}. Best is trial 94 with value: 0.582375944256602.\u001b[0m\n",
      "\u001b[32m[I 2022-05-04 19:06:47,239]\u001b[0m Trial 95 finished with value: 0.5048596868586253 and parameters: {'threshold': 0.0030713591918407695}. Best is trial 94 with value: 0.582375944256602.\u001b[0m\n",
      "\u001b[32m[I 2022-05-04 19:06:54,750]\u001b[0m Trial 96 finished with value: 0.4589755969828466 and parameters: {'threshold': 0.011763572184518909}. Best is trial 94 with value: 0.582375944256602.\u001b[0m\n",
      "\u001b[32m[I 2022-05-04 19:07:05,919]\u001b[0m Trial 97 finished with value: 0.5333151799928654 and parameters: {'threshold': 0.008798027964099897}. Best is trial 94 with value: 0.582375944256602.\u001b[0m\n",
      "\u001b[32m[I 2022-05-04 19:07:13,318]\u001b[0m Trial 98 finished with value: 0.4231179754783468 and parameters: {'threshold': 0.00472940996167261}. Best is trial 94 with value: 0.582375944256602.\u001b[0m\n",
      "\u001b[32m[I 2022-05-04 19:07:20,750]\u001b[0m Trial 99 finished with value: 0.38572302381541146 and parameters: {'threshold': 0.047670243615698445}. Best is trial 94 with value: 0.582375944256602.\u001b[0m\n"
     ]
    }
   ],
   "source": [
    "study = optuna.create_study(direction='maximize')\n",
    "study.optimize(objective, n_trials=100)"
   ]
  },
  {
   "cell_type": "code",
   "execution_count": 13,
   "metadata": {},
   "outputs": [
    {
     "name": "stderr",
     "output_type": "stream",
     "text": [
      "\u001b[32m[I 2022-05-04 19:07:20,781]\u001b[0m A new study created in memory with name: no-name-789b9742-4b0f-4f28-a33a-7d12a63e2f6b\u001b[0m\n",
      "\u001b[32m[I 2022-05-04 19:07:32,076]\u001b[0m Trial 0 finished with value: 0.4937754818749164 and parameters: {'threshold': 0.0003203441392529541}. Best is trial 0 with value: 0.4937754818749164.\u001b[0m\n",
      "\u001b[32m[I 2022-05-04 19:07:39,496]\u001b[0m Trial 1 finished with value: 0.3307063779825019 and parameters: {'threshold': 0.06046801678189901}. Best is trial 0 with value: 0.4937754818749164.\u001b[0m\n",
      "\u001b[32m[I 2022-05-04 19:07:46,874]\u001b[0m Trial 2 finished with value: 0.3878871463490375 and parameters: {'threshold': 0.038004684416063375}. Best is trial 0 with value: 0.4937754818749164.\u001b[0m\n",
      "\u001b[32m[I 2022-05-04 19:07:54,321]\u001b[0m Trial 3 finished with value: 0.44640875340438113 and parameters: {'threshold': 0.08033933470048052}. Best is trial 0 with value: 0.4937754818749164.\u001b[0m\n",
      "\u001b[32m[I 2022-05-04 19:08:01,688]\u001b[0m Trial 4 finished with value: 0.38194916964404113 and parameters: {'threshold': 0.09600182606545504}. Best is trial 0 with value: 0.4937754818749164.\u001b[0m\n",
      "\u001b[32m[I 2022-05-04 19:08:09,119]\u001b[0m Trial 5 finished with value: 0.40542036275237286 and parameters: {'threshold': 0.07085926785500743}. Best is trial 0 with value: 0.4937754818749164.\u001b[0m\n",
      "\u001b[32m[I 2022-05-04 19:08:16,549]\u001b[0m Trial 6 finished with value: 0.44350291220379384 and parameters: {'threshold': 0.09352763671242248}. Best is trial 0 with value: 0.4937754818749164.\u001b[0m\n",
      "\u001b[32m[I 2022-05-04 19:08:23,901]\u001b[0m Trial 7 finished with value: 0.4254943097491426 and parameters: {'threshold': 0.042471642925481196}. Best is trial 0 with value: 0.4937754818749164.\u001b[0m\n",
      "\u001b[32m[I 2022-05-04 19:08:31,284]\u001b[0m Trial 8 finished with value: 0.3833165825305245 and parameters: {'threshold': 0.020960523769019163}. Best is trial 0 with value: 0.4937754818749164.\u001b[0m\n",
      "\u001b[32m[I 2022-05-04 19:08:38,651]\u001b[0m Trial 9 finished with value: 0.4038270990308553 and parameters: {'threshold': 0.08726486824256584}. Best is trial 0 with value: 0.4937754818749164.\u001b[0m\n",
      "\u001b[32m[I 2022-05-04 19:08:49,726]\u001b[0m Trial 10 finished with value: 0.4619208882028093 and parameters: {'threshold': 0.0014554315562126732}. Best is trial 0 with value: 0.4937754818749164.\u001b[0m\n",
      "\u001b[32m[I 2022-05-04 19:09:00,769]\u001b[0m Trial 11 finished with value: 0.468742369127471 and parameters: {'threshold': 0.0023715285720179646}. Best is trial 0 with value: 0.4937754818749164.\u001b[0m\n",
      "\u001b[32m[I 2022-05-04 19:09:11,907]\u001b[0m Trial 12 finished with value: 0.4506335469957849 and parameters: {'threshold': 0.0011033311954077886}. Best is trial 0 with value: 0.4937754818749164.\u001b[0m\n",
      "\u001b[32m[I 2022-05-04 19:09:19,243]\u001b[0m Trial 13 finished with value: 0.4379699420284576 and parameters: {'threshold': 0.020293825490612732}. Best is trial 0 with value: 0.4937754818749164.\u001b[0m\n",
      "\u001b[32m[I 2022-05-04 19:09:26,579]\u001b[0m Trial 14 finished with value: 0.4512031858352461 and parameters: {'threshold': 0.018998165810250683}. Best is trial 0 with value: 0.4937754818749164.\u001b[0m\n",
      "\u001b[32m[I 2022-05-04 19:09:33,933]\u001b[0m Trial 15 finished with value: 0.4541374477438996 and parameters: {'threshold': 0.013094508303991741}. Best is trial 0 with value: 0.4937754818749164.\u001b[0m\n",
      "\u001b[32m[I 2022-05-04 19:09:41,255]\u001b[0m Trial 16 finished with value: 0.49218421555812186 and parameters: {'threshold': 0.03239994941568686}. Best is trial 0 with value: 0.4937754818749164.\u001b[0m\n",
      "\u001b[32m[I 2022-05-04 19:09:48,560]\u001b[0m Trial 17 finished with value: 0.39909073819134216 and parameters: {'threshold': 0.03609149004637977}. Best is trial 0 with value: 0.4937754818749164.\u001b[0m\n",
      "\u001b[32m[I 2022-05-04 19:09:55,912]\u001b[0m Trial 18 finished with value: 0.448398531601336 and parameters: {'threshold': 0.05585421554618239}. Best is trial 0 with value: 0.4937754818749164.\u001b[0m\n",
      "\u001b[32m[I 2022-05-04 19:10:04,329]\u001b[0m Trial 19 finished with value: 0.3936655758133669 and parameters: {'threshold': 0.030006936149188763}. Best is trial 0 with value: 0.4937754818749164.\u001b[0m\n",
      "\u001b[32m[I 2022-05-04 19:11:04,640]\u001b[0m Trial 20 finished with value: 0.4378841359372512 and parameters: {'threshold': 0.05000000912262097}. Best is trial 0 with value: 0.4937754818749164.\u001b[0m\n",
      "\u001b[32m[I 2022-05-04 19:11:39,914]\u001b[0m Trial 21 finished with value: 0.4472210197397421 and parameters: {'threshold': 0.0034539352680294172}. Best is trial 0 with value: 0.4937754818749164.\u001b[0m\n",
      "\u001b[32m[I 2022-05-04 19:12:18,547]\u001b[0m Trial 22 finished with value: 0.49668536856703294 and parameters: {'threshold': 0.010746249613445624}. Best is trial 22 with value: 0.49668536856703294.\u001b[0m\n",
      "\u001b[32m[I 2022-05-04 19:12:57,041]\u001b[0m Trial 23 finished with value: 0.5524892604487753 and parameters: {'threshold': 0.013381376590462984}. Best is trial 23 with value: 0.5524892604487753.\u001b[0m\n",
      "\u001b[32m[I 2022-05-04 19:13:35,484]\u001b[0m Trial 24 finished with value: 0.45970470285759807 and parameters: {'threshold': 0.011465459706381527}. Best is trial 23 with value: 0.5524892604487753.\u001b[0m\n",
      "\u001b[32m[I 2022-05-04 19:14:13,946]\u001b[0m Trial 25 finished with value: 0.5220965277371662 and parameters: {'threshold': 0.0115634507451379}. Best is trial 23 with value: 0.5524892604487753.\u001b[0m\n",
      "\u001b[32m[I 2022-05-04 19:14:38,089]\u001b[0m Trial 26 finished with value: 0.44341432590050867 and parameters: {'threshold': 0.02749281182758449}. Best is trial 23 with value: 0.5524892604487753.\u001b[0m\n",
      "\u001b[32m[I 2022-05-04 19:15:03,435]\u001b[0m Trial 27 finished with value: 0.41392754268613674 and parameters: {'threshold': 0.011262425983134036}. Best is trial 23 with value: 0.5524892604487753.\u001b[0m\n",
      "\u001b[32m[I 2022-05-04 19:15:28,337]\u001b[0m Trial 28 finished with value: 0.44646351625211084 and parameters: {'threshold': 0.023557625751123683}. Best is trial 23 with value: 0.5524892604487753.\u001b[0m\n",
      "\u001b[32m[I 2022-05-04 19:16:06,823]\u001b[0m Trial 29 finished with value: 0.43141465903167536 and parameters: {'threshold': 0.012854215974217598}. Best is trial 23 with value: 0.5524892604487753.\u001b[0m\n",
      "\u001b[32m[I 2022-05-04 19:16:32,369]\u001b[0m Trial 30 finished with value: 0.3840897856268058 and parameters: {'threshold': 0.04296826865311823}. Best is trial 23 with value: 0.5524892604487753.\u001b[0m\n",
      "\u001b[32m[I 2022-05-04 19:17:10,881]\u001b[0m Trial 31 finished with value: 0.4691887741355279 and parameters: {'threshold': 0.009920935417356998}. Best is trial 23 with value: 0.5524892604487753.\u001b[0m\n",
      "\u001b[32m[I 2022-05-04 19:17:49,321]\u001b[0m Trial 32 finished with value: 0.5601484154933529 and parameters: {'threshold': 0.00681320925252587}. Best is trial 32 with value: 0.5601484154933529.\u001b[0m\n",
      "\u001b[32m[I 2022-05-04 19:18:27,960]\u001b[0m Trial 33 finished with value: 0.5429531223291771 and parameters: {'threshold': 0.006457900598762005}. Best is trial 32 with value: 0.5601484154933529.\u001b[0m\n",
      "\u001b[32m[I 2022-05-04 19:18:53,773]\u001b[0m Trial 34 finished with value: 0.47922773442173594 and parameters: {'threshold': 0.006751141365483453}. Best is trial 32 with value: 0.5601484154933529.\u001b[0m\n",
      "\u001b[32m[I 2022-05-04 19:19:32,376]\u001b[0m Trial 35 finished with value: 0.5128879951997412 and parameters: {'threshold': 0.01702730106399716}. Best is trial 32 with value: 0.5601484154933529.\u001b[0m\n",
      "\u001b[32m[I 2022-05-04 19:19:58,005]\u001b[0m Trial 36 finished with value: 0.4071469723892425 and parameters: {'threshold': 0.027587436616650106}. Best is trial 32 with value: 0.5601484154933529.\u001b[0m\n",
      "\u001b[32m[I 2022-05-04 19:20:23,717]\u001b[0m Trial 37 finished with value: 0.4331831480923548 and parameters: {'threshold': 0.06975237525529698}. Best is trial 32 with value: 0.5601484154933529.\u001b[0m\n",
      "\u001b[32m[I 2022-05-04 19:21:02,943]\u001b[0m Trial 38 finished with value: 0.5077764709679108 and parameters: {'threshold': 0.006634181565417234}. Best is trial 32 with value: 0.5601484154933529.\u001b[0m\n",
      "\u001b[32m[I 2022-05-04 19:21:28,691]\u001b[0m Trial 39 finished with value: 0.5063235456520021 and parameters: {'threshold': 0.016269724875869935}. Best is trial 32 with value: 0.5601484154933529.\u001b[0m\n",
      "\u001b[32m[I 2022-05-04 19:21:54,380]\u001b[0m Trial 40 finished with value: 0.41741496470633377 and parameters: {'threshold': 0.02391684047781284}. Best is trial 32 with value: 0.5601484154933529.\u001b[0m\n",
      "\u001b[32m[I 2022-05-04 19:22:33,242]\u001b[0m Trial 41 finished with value: 0.42630813472936036 and parameters: {'threshold': 0.01752807014251208}. Best is trial 32 with value: 0.5601484154933529.\u001b[0m\n",
      "\u001b[32m[I 2022-05-04 19:23:12,497]\u001b[0m Trial 42 finished with value: 0.345412353132702 and parameters: {'threshold': 0.006528096915859538}. Best is trial 32 with value: 0.5601484154933529.\u001b[0m\n"
     ]
    },
    {
     "name": "stderr",
     "output_type": "stream",
     "text": [
      "\u001b[32m[I 2022-05-04 19:23:51,208]\u001b[0m Trial 43 finished with value: 0.44914089139538327 and parameters: {'threshold': 0.015391769449463168}. Best is trial 32 with value: 0.5601484154933529.\u001b[0m\n",
      "\u001b[32m[I 2022-05-04 19:24:30,015]\u001b[0m Trial 44 finished with value: 0.5081432960900918 and parameters: {'threshold': 0.00776138381953448}. Best is trial 32 with value: 0.5601484154933529.\u001b[0m\n",
      "\u001b[32m[I 2022-05-04 19:25:08,205]\u001b[0m Trial 45 finished with value: 0.47079428133837425 and parameters: {'threshold': 0.0005868942195232521}. Best is trial 32 with value: 0.5601484154933529.\u001b[0m\n",
      "\u001b[32m[I 2022-05-04 19:25:33,689]\u001b[0m Trial 46 finished with value: 0.46255095663455714 and parameters: {'threshold': 0.022599255908481823}. Best is trial 32 with value: 0.5601484154933529.\u001b[0m\n",
      "\u001b[32m[I 2022-05-04 19:25:59,177]\u001b[0m Trial 47 finished with value: 0.502235249742404 and parameters: {'threshold': 0.03682566179509705}. Best is trial 32 with value: 0.5601484154933529.\u001b[0m\n",
      "\u001b[32m[I 2022-05-04 19:26:24,728]\u001b[0m Trial 48 finished with value: 0.48700939986964037 and parameters: {'threshold': 0.016981443560923376}. Best is trial 32 with value: 0.5601484154933529.\u001b[0m\n",
      "\u001b[32m[I 2022-05-04 19:27:04,148]\u001b[0m Trial 49 finished with value: 0.5201456601785056 and parameters: {'threshold': 0.00466440648763162}. Best is trial 32 with value: 0.5601484154933529.\u001b[0m\n",
      "\u001b[32m[I 2022-05-04 19:27:42,738]\u001b[0m Trial 50 finished with value: 0.5196448806806038 and parameters: {'threshold': 0.004476015199565576}. Best is trial 32 with value: 0.5601484154933529.\u001b[0m\n",
      "\u001b[32m[I 2022-05-04 19:28:21,240]\u001b[0m Trial 51 finished with value: 0.4634944312246266 and parameters: {'threshold': 0.0052469951904892224}. Best is trial 32 with value: 0.5601484154933529.\u001b[0m\n",
      "\u001b[32m[I 2022-05-04 19:28:59,674]\u001b[0m Trial 52 finished with value: 0.4901815446660867 and parameters: {'threshold': 0.0013982230635682154}. Best is trial 32 with value: 0.5601484154933529.\u001b[0m\n",
      "\u001b[32m[I 2022-05-04 19:29:38,173]\u001b[0m Trial 53 finished with value: 0.48315073112551454 and parameters: {'threshold': 0.004296050821164613}. Best is trial 32 with value: 0.5601484154933529.\u001b[0m\n",
      "\u001b[32m[I 2022-05-04 19:30:17,110]\u001b[0m Trial 54 finished with value: 0.4929985036925311 and parameters: {'threshold': 0.009035187163258969}. Best is trial 32 with value: 0.5601484154933529.\u001b[0m\n",
      "\u001b[32m[I 2022-05-04 19:30:42,533]\u001b[0m Trial 55 finished with value: 0.44104020620300416 and parameters: {'threshold': 0.09934569993085374}. Best is trial 32 with value: 0.5601484154933529.\u001b[0m\n",
      "\u001b[32m[I 2022-05-04 19:31:08,094]\u001b[0m Trial 56 finished with value: 0.4132197245886064 and parameters: {'threshold': 0.013282038408772678}. Best is trial 32 with value: 0.5601484154933529.\u001b[0m\n",
      "\u001b[32m[I 2022-05-04 19:31:46,629]\u001b[0m Trial 57 finished with value: 0.530543429318951 and parameters: {'threshold': 0.0009722523388695217}. Best is trial 32 with value: 0.5601484154933529.\u001b[0m\n",
      "\u001b[32m[I 2022-05-04 19:32:12,332]\u001b[0m Trial 58 finished with value: 0.48584549766948015 and parameters: {'threshold': 0.06753614649685388}. Best is trial 32 with value: 0.5601484154933529.\u001b[0m\n",
      "\u001b[32m[I 2022-05-04 19:32:37,625]\u001b[0m Trial 59 finished with value: 0.4332323044291342 and parameters: {'threshold': 0.0851590153305106}. Best is trial 32 with value: 0.5601484154933529.\u001b[0m\n",
      "\u001b[32m[I 2022-05-04 19:33:03,209]\u001b[0m Trial 60 finished with value: 0.4657588940080375 and parameters: {'threshold': 0.02035823892363848}. Best is trial 32 with value: 0.5601484154933529.\u001b[0m\n",
      "\u001b[32m[I 2022-05-04 19:33:41,658]\u001b[0m Trial 61 finished with value: 0.41867667474713144 and parameters: {'threshold': 0.0007108460259864289}. Best is trial 32 with value: 0.5601484154933529.\u001b[0m\n",
      "\u001b[32m[I 2022-05-04 19:34:20,168]\u001b[0m Trial 62 finished with value: 0.5531271885180671 and parameters: {'threshold': 0.004738263666881994}. Best is trial 32 with value: 0.5601484154933529.\u001b[0m\n",
      "\u001b[32m[I 2022-05-04 19:34:58,330]\u001b[0m Trial 63 finished with value: 0.5799425961637373 and parameters: {'threshold': 0.008005169340664352}. Best is trial 63 with value: 0.5799425961637373.\u001b[0m\n",
      "\u001b[32m[I 2022-05-04 19:35:23,927]\u001b[0m Trial 64 finished with value: 0.42123046461905816 and parameters: {'threshold': 0.013252955626754537}. Best is trial 63 with value: 0.5799425961637373.\u001b[0m\n",
      "\u001b[32m[I 2022-05-04 19:35:49,525]\u001b[0m Trial 65 finished with value: 0.4767340489548514 and parameters: {'threshold': 0.009415939456467069}. Best is trial 63 with value: 0.5799425961637373.\u001b[0m\n",
      "\u001b[32m[I 2022-05-04 19:36:27,959]\u001b[0m Trial 66 finished with value: 0.4580560125329564 and parameters: {'threshold': 0.0104066082702224}. Best is trial 63 with value: 0.5799425961637373.\u001b[0m\n",
      "\u001b[32m[I 2022-05-04 19:37:06,687]\u001b[0m Trial 67 finished with value: 0.4464242362058333 and parameters: {'threshold': 0.0029746684112459264}. Best is trial 63 with value: 0.5799425961637373.\u001b[0m\n",
      "\u001b[32m[I 2022-05-04 19:37:32,470]\u001b[0m Trial 68 finished with value: 0.3968840787553466 and parameters: {'threshold': 0.014296883303087817}. Best is trial 63 with value: 0.5799425961637373.\u001b[0m\n",
      "\u001b[32m[I 2022-05-04 19:37:57,955]\u001b[0m Trial 69 finished with value: 0.535610902877564 and parameters: {'threshold': 0.008126606150491511}. Best is trial 63 with value: 0.5799425961637373.\u001b[0m\n",
      "\u001b[32m[I 2022-05-04 19:38:36,610]\u001b[0m Trial 70 finished with value: 0.5083696640090644 and parameters: {'threshold': 2.9559848969033385e-05}. Best is trial 63 with value: 0.5799425961637373.\u001b[0m\n",
      "\u001b[32m[I 2022-05-04 19:39:02,190]\u001b[0m Trial 71 finished with value: 0.43631320295378706 and parameters: {'threshold': 0.007044583437936423}. Best is trial 63 with value: 0.5799425961637373.\u001b[0m\n",
      "\u001b[32m[I 2022-05-04 19:39:27,771]\u001b[0m Trial 72 finished with value: 0.489915314827637 and parameters: {'threshold': 0.009144488097720426}. Best is trial 63 with value: 0.5799425961637373.\u001b[0m\n",
      "\u001b[32m[I 2022-05-04 19:40:06,331]\u001b[0m Trial 73 finished with value: 0.45391200779453933 and parameters: {'threshold': 0.003729390458046567}. Best is trial 63 with value: 0.5799425961637373.\u001b[0m\n",
      "\u001b[32m[I 2022-05-04 19:40:31,503]\u001b[0m Trial 74 finished with value: 0.3707812744046766 and parameters: {'threshold': 0.01890804677483341}. Best is trial 63 with value: 0.5799425961637373.\u001b[0m\n",
      "\u001b[32m[I 2022-05-04 19:41:10,028]\u001b[0m Trial 75 finished with value: 0.45798365925968837 and parameters: {'threshold': 0.012521186880280602}. Best is trial 63 with value: 0.5799425961637373.\u001b[0m\n",
      "\u001b[32m[I 2022-05-04 19:41:35,589]\u001b[0m Trial 76 finished with value: 0.4608086053898997 and parameters: {'threshold': 0.008572592359437659}. Best is trial 63 with value: 0.5799425961637373.\u001b[0m\n",
      "\u001b[32m[I 2022-05-04 19:42:01,172]\u001b[0m Trial 77 finished with value: 0.4125541663936698 and parameters: {'threshold': 0.025290354857457155}. Best is trial 63 with value: 0.5799425961637373.\u001b[0m\n",
      "\u001b[32m[I 2022-05-04 19:42:26,770]\u001b[0m Trial 78 finished with value: 0.4479641170914832 and parameters: {'threshold': 0.04098192351705199}. Best is trial 63 with value: 0.5799425961637373.\u001b[0m\n",
      "\u001b[32m[I 2022-05-04 19:42:52,349]\u001b[0m Trial 79 finished with value: 0.39500481485751787 and parameters: {'threshold': 0.06056173900056262}. Best is trial 63 with value: 0.5799425961637373.\u001b[0m\n",
      "\u001b[32m[I 2022-05-04 19:43:17,887]\u001b[0m Trial 80 finished with value: 0.4343523969819492 and parameters: {'threshold': 0.014975172543016889}. Best is trial 63 with value: 0.5799425961637373.\u001b[0m\n",
      "\u001b[32m[I 2022-05-04 19:43:56,824]\u001b[0m Trial 81 finished with value: 0.531095918843867 and parameters: {'threshold': 0.006123612829103087}. Best is trial 63 with value: 0.5799425961637373.\u001b[0m\n",
      "\u001b[32m[I 2022-05-04 19:44:34,987]\u001b[0m Trial 82 finished with value: 0.47022638033500297 and parameters: {'threshold': 0.006275546168081019}. Best is trial 63 with value: 0.5799425961637373.\u001b[0m\n",
      "\u001b[32m[I 2022-05-04 19:45:13,220]\u001b[0m Trial 83 finished with value: 0.5290061595357656 and parameters: {'threshold': 0.011425689161070665}. Best is trial 63 with value: 0.5799425961637373.\u001b[0m\n",
      "\u001b[32m[I 2022-05-04 19:45:51,247]\u001b[0m Trial 84 finished with value: 0.4592214431512553 and parameters: {'threshold': 0.0026927279727891424}. Best is trial 63 with value: 0.5799425961637373.\u001b[0m\n",
      "\u001b[32m[I 2022-05-04 19:46:17,211]\u001b[0m Trial 85 finished with value: 0.407158299237564 and parameters: {'threshold': 0.010806197656208227}. Best is trial 63 with value: 0.5799425961637373.\u001b[0m\n"
     ]
    },
    {
     "name": "stderr",
     "output_type": "stream",
     "text": [
      "\u001b[32m[I 2022-05-04 19:46:42,809]\u001b[0m Trial 86 finished with value: 0.4473361392938391 and parameters: {'threshold': 0.048536957536957435}. Best is trial 63 with value: 0.5799425961637373.\u001b[0m\n",
      "\u001b[32m[I 2022-05-04 19:47:21,453]\u001b[0m Trial 87 finished with value: 0.42815381407575465 and parameters: {'threshold': 0.0064354720356119945}. Best is trial 63 with value: 0.5799425961637373.\u001b[0m\n",
      "\u001b[32m[I 2022-05-04 19:48:00,094]\u001b[0m Trial 88 finished with value: 0.48431236971950287 and parameters: {'threshold': 0.0024910169865282952}. Best is trial 63 with value: 0.5799425961637373.\u001b[0m\n",
      "\u001b[32m[I 2022-05-04 19:48:25,580]\u001b[0m Trial 89 finished with value: 0.482006377381706 and parameters: {'threshold': 0.02179741002296051}. Best is trial 63 with value: 0.5799425961637373.\u001b[0m\n",
      "\u001b[32m[I 2022-05-04 19:48:51,087]\u001b[0m Trial 90 finished with value: 0.48741423532407174 and parameters: {'threshold': 0.018497390286646112}. Best is trial 63 with value: 0.5799425961637373.\u001b[0m\n",
      "\u001b[33m[W 2022-05-04 19:49:03,858]\u001b[0m Trial 91 failed because of the following error: IndexError('arrays used as indices must be of integer (or boolean) type')\u001b[0m\n",
      "Traceback (most recent call last):\n",
      "  File \"C:\\Users\\nammy\\anaconda3\\lib\\site-packages\\optuna\\study\\_optimize.py\", line 213, in _run_trial\n",
      "    value_or_values = func(trial)\n",
      "  File \"<ipython-input-11-690b1aca790d>\", line 6, in objective\n",
      "    model.train(images_train, labels_train)\n",
      "  File \"C:\\Users\\nammy\\Desktop\\MAT270-hw2\\kmeans.py\", line 30, in train\n",
      "    new_centroids = self.__update_centroids()\n",
      "  File \"C:\\Users\\nammy\\Desktop\\MAT270-hw2\\kmeans.py\", line 70, in __update_centroids\n",
      "    new_centers[i] = self.__get_centroid(clusters[i])\n",
      "  File \"C:\\Users\\nammy\\Desktop\\MAT270-hw2\\kmeans.py\", line 63, in __get_centroid\n",
      "    centroid = np.average(self.data[cluster], axis=0) # column averages\n",
      "IndexError: arrays used as indices must be of integer (or boolean) type\n"
     ]
    },
    {
     "ename": "IndexError",
     "evalue": "arrays used as indices must be of integer (or boolean) type",
     "output_type": "error",
     "traceback": [
      "\u001b[1;31m---------------------------------------------------------------------------\u001b[0m",
      "\u001b[1;31mIndexError\u001b[0m                                Traceback (most recent call last)",
      "\u001b[1;32m<ipython-input-13-e5765535ee57>\u001b[0m in \u001b[0;36m<module>\u001b[1;34m\u001b[0m\n\u001b[0;32m      1\u001b[0m \u001b[0mstudy\u001b[0m \u001b[1;33m=\u001b[0m \u001b[0moptuna\u001b[0m\u001b[1;33m.\u001b[0m\u001b[0mcreate_study\u001b[0m\u001b[1;33m(\u001b[0m\u001b[0mdirection\u001b[0m\u001b[1;33m=\u001b[0m\u001b[1;34m'maximize'\u001b[0m\u001b[1;33m)\u001b[0m\u001b[1;33m\u001b[0m\u001b[1;33m\u001b[0m\u001b[0m\n\u001b[1;32m----> 2\u001b[1;33m \u001b[0mstudy\u001b[0m\u001b[1;33m.\u001b[0m\u001b[0moptimize\u001b[0m\u001b[1;33m(\u001b[0m\u001b[0mobjective\u001b[0m\u001b[1;33m,\u001b[0m \u001b[0mn_trials\u001b[0m\u001b[1;33m=\u001b[0m\u001b[1;36m100\u001b[0m\u001b[1;33m)\u001b[0m\u001b[1;33m\u001b[0m\u001b[1;33m\u001b[0m\u001b[0m\n\u001b[0m",
      "\u001b[1;32m~\\anaconda3\\lib\\site-packages\\optuna\\study\\study.py\u001b[0m in \u001b[0;36moptimize\u001b[1;34m(self, func, n_trials, timeout, n_jobs, catch, callbacks, gc_after_trial, show_progress_bar)\u001b[0m\n\u001b[0;32m    398\u001b[0m             )\n\u001b[0;32m    399\u001b[0m \u001b[1;33m\u001b[0m\u001b[0m\n\u001b[1;32m--> 400\u001b[1;33m         _optimize(\n\u001b[0m\u001b[0;32m    401\u001b[0m             \u001b[0mstudy\u001b[0m\u001b[1;33m=\u001b[0m\u001b[0mself\u001b[0m\u001b[1;33m,\u001b[0m\u001b[1;33m\u001b[0m\u001b[1;33m\u001b[0m\u001b[0m\n\u001b[0;32m    402\u001b[0m             \u001b[0mfunc\u001b[0m\u001b[1;33m=\u001b[0m\u001b[0mfunc\u001b[0m\u001b[1;33m,\u001b[0m\u001b[1;33m\u001b[0m\u001b[1;33m\u001b[0m\u001b[0m\n",
      "\u001b[1;32m~\\anaconda3\\lib\\site-packages\\optuna\\study\\_optimize.py\u001b[0m in \u001b[0;36m_optimize\u001b[1;34m(study, func, n_trials, timeout, n_jobs, catch, callbacks, gc_after_trial, show_progress_bar)\u001b[0m\n\u001b[0;32m     64\u001b[0m     \u001b[1;32mtry\u001b[0m\u001b[1;33m:\u001b[0m\u001b[1;33m\u001b[0m\u001b[1;33m\u001b[0m\u001b[0m\n\u001b[0;32m     65\u001b[0m         \u001b[1;32mif\u001b[0m \u001b[0mn_jobs\u001b[0m \u001b[1;33m==\u001b[0m \u001b[1;36m1\u001b[0m\u001b[1;33m:\u001b[0m\u001b[1;33m\u001b[0m\u001b[1;33m\u001b[0m\u001b[0m\n\u001b[1;32m---> 66\u001b[1;33m             _optimize_sequential(\n\u001b[0m\u001b[0;32m     67\u001b[0m                 \u001b[0mstudy\u001b[0m\u001b[1;33m,\u001b[0m\u001b[1;33m\u001b[0m\u001b[1;33m\u001b[0m\u001b[0m\n\u001b[0;32m     68\u001b[0m                 \u001b[0mfunc\u001b[0m\u001b[1;33m,\u001b[0m\u001b[1;33m\u001b[0m\u001b[1;33m\u001b[0m\u001b[0m\n",
      "\u001b[1;32m~\\anaconda3\\lib\\site-packages\\optuna\\study\\_optimize.py\u001b[0m in \u001b[0;36m_optimize_sequential\u001b[1;34m(study, func, n_trials, timeout, catch, callbacks, gc_after_trial, reseed_sampler_rng, time_start, progress_bar)\u001b[0m\n\u001b[0;32m    161\u001b[0m \u001b[1;33m\u001b[0m\u001b[0m\n\u001b[0;32m    162\u001b[0m         \u001b[1;32mtry\u001b[0m\u001b[1;33m:\u001b[0m\u001b[1;33m\u001b[0m\u001b[1;33m\u001b[0m\u001b[0m\n\u001b[1;32m--> 163\u001b[1;33m             \u001b[0mtrial\u001b[0m \u001b[1;33m=\u001b[0m \u001b[0m_run_trial\u001b[0m\u001b[1;33m(\u001b[0m\u001b[0mstudy\u001b[0m\u001b[1;33m,\u001b[0m \u001b[0mfunc\u001b[0m\u001b[1;33m,\u001b[0m \u001b[0mcatch\u001b[0m\u001b[1;33m)\u001b[0m\u001b[1;33m\u001b[0m\u001b[1;33m\u001b[0m\u001b[0m\n\u001b[0m\u001b[0;32m    164\u001b[0m         \u001b[1;32mexcept\u001b[0m \u001b[0mException\u001b[0m\u001b[1;33m:\u001b[0m\u001b[1;33m\u001b[0m\u001b[1;33m\u001b[0m\u001b[0m\n\u001b[0;32m    165\u001b[0m             \u001b[1;32mraise\u001b[0m\u001b[1;33m\u001b[0m\u001b[1;33m\u001b[0m\u001b[0m\n",
      "\u001b[1;32m~\\anaconda3\\lib\\site-packages\\optuna\\study\\_optimize.py\u001b[0m in \u001b[0;36m_run_trial\u001b[1;34m(study, func, catch)\u001b[0m\n\u001b[0;32m    262\u001b[0m \u001b[1;33m\u001b[0m\u001b[0m\n\u001b[0;32m    263\u001b[0m     \u001b[1;32mif\u001b[0m \u001b[0mstate\u001b[0m \u001b[1;33m==\u001b[0m \u001b[0mTrialState\u001b[0m\u001b[1;33m.\u001b[0m\u001b[0mFAIL\u001b[0m \u001b[1;32mand\u001b[0m \u001b[0mfunc_err\u001b[0m \u001b[1;32mis\u001b[0m \u001b[1;32mnot\u001b[0m \u001b[1;32mNone\u001b[0m \u001b[1;32mand\u001b[0m \u001b[1;32mnot\u001b[0m \u001b[0misinstance\u001b[0m\u001b[1;33m(\u001b[0m\u001b[0mfunc_err\u001b[0m\u001b[1;33m,\u001b[0m \u001b[0mcatch\u001b[0m\u001b[1;33m)\u001b[0m\u001b[1;33m:\u001b[0m\u001b[1;33m\u001b[0m\u001b[1;33m\u001b[0m\u001b[0m\n\u001b[1;32m--> 264\u001b[1;33m         \u001b[1;32mraise\u001b[0m \u001b[0mfunc_err\u001b[0m\u001b[1;33m\u001b[0m\u001b[1;33m\u001b[0m\u001b[0m\n\u001b[0m\u001b[0;32m    265\u001b[0m     \u001b[1;32mreturn\u001b[0m \u001b[0mtrial\u001b[0m\u001b[1;33m\u001b[0m\u001b[1;33m\u001b[0m\u001b[0m\n\u001b[0;32m    266\u001b[0m \u001b[1;33m\u001b[0m\u001b[0m\n",
      "\u001b[1;32m~\\anaconda3\\lib\\site-packages\\optuna\\study\\_optimize.py\u001b[0m in \u001b[0;36m_run_trial\u001b[1;34m(study, func, catch)\u001b[0m\n\u001b[0;32m    211\u001b[0m \u001b[1;33m\u001b[0m\u001b[0m\n\u001b[0;32m    212\u001b[0m     \u001b[1;32mtry\u001b[0m\u001b[1;33m:\u001b[0m\u001b[1;33m\u001b[0m\u001b[1;33m\u001b[0m\u001b[0m\n\u001b[1;32m--> 213\u001b[1;33m         \u001b[0mvalue_or_values\u001b[0m \u001b[1;33m=\u001b[0m \u001b[0mfunc\u001b[0m\u001b[1;33m(\u001b[0m\u001b[0mtrial\u001b[0m\u001b[1;33m)\u001b[0m\u001b[1;33m\u001b[0m\u001b[1;33m\u001b[0m\u001b[0m\n\u001b[0m\u001b[0;32m    214\u001b[0m     \u001b[1;32mexcept\u001b[0m \u001b[0mexceptions\u001b[0m\u001b[1;33m.\u001b[0m\u001b[0mTrialPruned\u001b[0m \u001b[1;32mas\u001b[0m \u001b[0me\u001b[0m\u001b[1;33m:\u001b[0m\u001b[1;33m\u001b[0m\u001b[1;33m\u001b[0m\u001b[0m\n\u001b[0;32m    215\u001b[0m         \u001b[1;31m# TODO(mamu): Handle multi-objective cases.\u001b[0m\u001b[1;33m\u001b[0m\u001b[1;33m\u001b[0m\u001b[1;33m\u001b[0m\u001b[0m\n",
      "\u001b[1;32m<ipython-input-11-690b1aca790d>\u001b[0m in \u001b[0;36mobjective\u001b[1;34m(trial)\u001b[0m\n\u001b[0;32m      4\u001b[0m     )\n\u001b[0;32m      5\u001b[0m     \u001b[0mmodel\u001b[0m \u001b[1;33m=\u001b[0m \u001b[0mkMeans\u001b[0m\u001b[1;33m(\u001b[0m\u001b[0mhyperparam\u001b[0m\u001b[1;33m)\u001b[0m\u001b[1;33m\u001b[0m\u001b[1;33m\u001b[0m\u001b[0m\n\u001b[1;32m----> 6\u001b[1;33m     \u001b[0mmodel\u001b[0m\u001b[1;33m.\u001b[0m\u001b[0mtrain\u001b[0m\u001b[1;33m(\u001b[0m\u001b[0mimages_train\u001b[0m\u001b[1;33m,\u001b[0m \u001b[0mlabels_train\u001b[0m\u001b[1;33m)\u001b[0m\u001b[1;33m\u001b[0m\u001b[1;33m\u001b[0m\u001b[0m\n\u001b[0m\u001b[0;32m      7\u001b[0m     \u001b[1;32mreturn\u001b[0m \u001b[0mmodel\u001b[0m\u001b[1;33m.\u001b[0m\u001b[0maccuracy\u001b[0m\u001b[1;33m(\u001b[0m\u001b[1;33m)\u001b[0m\u001b[1;33m\u001b[0m\u001b[1;33m\u001b[0m\u001b[0m\n",
      "\u001b[1;32m~\\Desktop\\MAT270-hw2\\kmeans.py\u001b[0m in \u001b[0;36mtrain\u001b[1;34m(self, data, labels)\u001b[0m\n\u001b[0;32m     28\u001b[0m         \u001b[0mself\u001b[0m\u001b[1;33m.\u001b[0m\u001b[0mlabels\u001b[0m \u001b[1;33m=\u001b[0m \u001b[0mlabels\u001b[0m\u001b[1;33m\u001b[0m\u001b[1;33m\u001b[0m\u001b[0m\n\u001b[0;32m     29\u001b[0m         \u001b[0mself\u001b[0m\u001b[1;33m.\u001b[0m\u001b[0m__initialize_centroids\u001b[0m\u001b[1;33m(\u001b[0m\u001b[1;33m)\u001b[0m\u001b[1;33m\u001b[0m\u001b[1;33m\u001b[0m\u001b[0m\n\u001b[1;32m---> 30\u001b[1;33m         \u001b[0mnew_centroids\u001b[0m \u001b[1;33m=\u001b[0m \u001b[0mself\u001b[0m\u001b[1;33m.\u001b[0m\u001b[0m__update_centroids\u001b[0m\u001b[1;33m(\u001b[0m\u001b[1;33m)\u001b[0m\u001b[1;33m\u001b[0m\u001b[1;33m\u001b[0m\u001b[0m\n\u001b[0m\u001b[0;32m     31\u001b[0m         \u001b[1;32mwhile\u001b[0m \u001b[0mself\u001b[0m\u001b[1;33m.\u001b[0m\u001b[0m__is_outside_of_threshold\u001b[0m\u001b[1;33m(\u001b[0m\u001b[0mnew_centroids\u001b[0m\u001b[1;33m)\u001b[0m\u001b[1;33m:\u001b[0m  \u001b[1;31m# update until change is small\u001b[0m\u001b[1;33m\u001b[0m\u001b[1;33m\u001b[0m\u001b[0m\n\u001b[0;32m     32\u001b[0m             \u001b[0mself\u001b[0m\u001b[1;33m.\u001b[0m\u001b[0mcenters\u001b[0m \u001b[1;33m=\u001b[0m \u001b[0mnew_centroids\u001b[0m\u001b[1;33m\u001b[0m\u001b[1;33m\u001b[0m\u001b[0m\n",
      "\u001b[1;32m~\\Desktop\\MAT270-hw2\\kmeans.py\u001b[0m in \u001b[0;36m__update_centroids\u001b[1;34m(self)\u001b[0m\n\u001b[0;32m     68\u001b[0m         \u001b[0mnew_centers\u001b[0m \u001b[1;33m=\u001b[0m \u001b[1;33m[\u001b[0m\u001b[1;36m0\u001b[0m\u001b[1;33m]\u001b[0m \u001b[1;33m*\u001b[0m \u001b[0mself\u001b[0m\u001b[1;33m.\u001b[0m\u001b[0mnum_centers\u001b[0m\u001b[1;33m\u001b[0m\u001b[1;33m\u001b[0m\u001b[0m\n\u001b[0;32m     69\u001b[0m         \u001b[1;32mfor\u001b[0m \u001b[0mi\u001b[0m \u001b[1;32min\u001b[0m \u001b[0mrange\u001b[0m\u001b[1;33m(\u001b[0m\u001b[0mself\u001b[0m\u001b[1;33m.\u001b[0m\u001b[0mnum_centers\u001b[0m\u001b[1;33m)\u001b[0m\u001b[1;33m:\u001b[0m\u001b[1;33m\u001b[0m\u001b[1;33m\u001b[0m\u001b[0m\n\u001b[1;32m---> 70\u001b[1;33m             \u001b[0mnew_centers\u001b[0m\u001b[1;33m[\u001b[0m\u001b[0mi\u001b[0m\u001b[1;33m]\u001b[0m \u001b[1;33m=\u001b[0m \u001b[0mself\u001b[0m\u001b[1;33m.\u001b[0m\u001b[0m__get_centroid\u001b[0m\u001b[1;33m(\u001b[0m\u001b[0mclusters\u001b[0m\u001b[1;33m[\u001b[0m\u001b[0mi\u001b[0m\u001b[1;33m]\u001b[0m\u001b[1;33m)\u001b[0m\u001b[1;33m\u001b[0m\u001b[1;33m\u001b[0m\u001b[0m\n\u001b[0m\u001b[0;32m     71\u001b[0m         \u001b[1;32mreturn\u001b[0m \u001b[0mnp\u001b[0m\u001b[1;33m.\u001b[0m\u001b[0marray\u001b[0m\u001b[1;33m(\u001b[0m\u001b[0mnew_centers\u001b[0m\u001b[1;33m)\u001b[0m\u001b[1;33m\u001b[0m\u001b[1;33m\u001b[0m\u001b[0m\n\u001b[0;32m     72\u001b[0m \u001b[1;33m\u001b[0m\u001b[0m\n",
      "\u001b[1;32m~\\Desktop\\MAT270-hw2\\kmeans.py\u001b[0m in \u001b[0;36m__get_centroid\u001b[1;34m(self, cluster)\u001b[0m\n\u001b[0;32m     61\u001b[0m \u001b[1;33m\u001b[0m\u001b[0m\n\u001b[0;32m     62\u001b[0m     \u001b[1;32mdef\u001b[0m \u001b[0m__get_centroid\u001b[0m\u001b[1;33m(\u001b[0m\u001b[0mself\u001b[0m\u001b[1;33m,\u001b[0m \u001b[0mcluster\u001b[0m\u001b[1;33m)\u001b[0m\u001b[1;33m:\u001b[0m\u001b[1;33m\u001b[0m\u001b[1;33m\u001b[0m\u001b[0m\n\u001b[1;32m---> 63\u001b[1;33m         \u001b[0mcentroid\u001b[0m \u001b[1;33m=\u001b[0m \u001b[0mnp\u001b[0m\u001b[1;33m.\u001b[0m\u001b[0maverage\u001b[0m\u001b[1;33m(\u001b[0m\u001b[0mself\u001b[0m\u001b[1;33m.\u001b[0m\u001b[0mdata\u001b[0m\u001b[1;33m[\u001b[0m\u001b[0mcluster\u001b[0m\u001b[1;33m]\u001b[0m\u001b[1;33m,\u001b[0m \u001b[0maxis\u001b[0m\u001b[1;33m=\u001b[0m\u001b[1;36m0\u001b[0m\u001b[1;33m)\u001b[0m \u001b[1;31m# column averages\u001b[0m\u001b[1;33m\u001b[0m\u001b[1;33m\u001b[0m\u001b[0m\n\u001b[0m\u001b[0;32m     64\u001b[0m         \u001b[1;32mreturn\u001b[0m \u001b[0mcentroid\u001b[0m\u001b[1;33m\u001b[0m\u001b[1;33m\u001b[0m\u001b[0m\n\u001b[0;32m     65\u001b[0m \u001b[1;33m\u001b[0m\u001b[0m\n",
      "\u001b[1;31mIndexError\u001b[0m: arrays used as indices must be of integer (or boolean) type"
     ]
    }
   ],
   "source": [
    "study = optuna.create_study(direction='maximize')\n",
    "study.optimize(objective, n_trials=100)"
   ]
  },
  {
   "cell_type": "code",
   "execution_count": null,
   "metadata": {},
   "outputs": [],
   "source": []
  }
 ],
 "metadata": {
  "kernelspec": {
   "display_name": "Python 3",
   "language": "python",
   "name": "python3"
  },
  "language_info": {
   "codemirror_mode": {
    "name": "ipython",
    "version": 3
   },
   "file_extension": ".py",
   "mimetype": "text/x-python",
   "name": "python",
   "nbconvert_exporter": "python",
   "pygments_lexer": "ipython3",
   "version": "3.8.3"
  }
 },
 "nbformat": 4,
 "nbformat_minor": 4
}
